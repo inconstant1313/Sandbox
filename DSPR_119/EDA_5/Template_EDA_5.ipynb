{
 "cells": [
  {
   "cell_type": "markdown",
   "id": "c8a6af25-08d3-487a-bd90-001772ac9161",
   "metadata": {},
   "source": [
    "## <center> **Анализ результатов A/B-тестирования**"
   ]
  },
  {
   "cell_type": "markdown",
   "id": "d7d45571-6545-4904-a86b-9b3b6b8163d3",
   "metadata": {},
   "source": [
    "Компания планирует запустить новую акцию, чтобы продать как можно больше туров. Команда разработала два варианта посадочной страницы официального сайта компании и провела A/B-тестирование. Собранные в результате проведения эксперимента данные вы можете найти здесь.\n",
    "\n",
    "Вам предстоит решить настоящую бизнес-задачу: проанализировать эффективность обоих вариантов посадочной страницы сразу по двум критериям: конверсии покупки и среднему чеку. На основе проведенного анализа вам будет необходимо сделать выводы и принять решение: какой из вариантов дизайна более предпочтительный.\n",
    "\n",
    "Итак, наша фирма предлагает следующие варианты туров и их соответствующие стоимости:\n",
    "* Таиланд — 100000 рублей;\n",
    "* Турция — 60000 рублей;\n",
    "* Мальдивы — 200000 рублей;\n",
    "* Санкт-Петербург — 10000 рублей;\n",
    "* Камчатка — 150000 рублей."
   ]
  },
  {
   "cell_type": "code",
   "execution_count": 211,
   "id": "a974b482-e192-4014-8520-8a5c0c946da6",
   "metadata": {},
   "outputs": [],
   "source": [
    "import pandas as pd\n",
    "import matplotlib.pyplot as plt\n",
    "import seaborn as sns\n",
    "from scipy.stats import norm\n",
    "from scipy.stats import t\n",
    "from scipy.stats import ttest_ind, shapiro, f_oneway, mannwhitneyu\n",
    "from statsmodels.stats.proportion import proportions_ztest"
   ]
  },
  {
   "cell_type": "markdown",
   "id": "55c84550-4162-4325-acc2-7d3c0aafe6f0",
   "metadata": {},
   "source": [
    "Прочитаем наши данные и посмотрим на столбцы таблицы:"
   ]
  },
  {
   "cell_type": "code",
   "execution_count": 212,
   "id": "b0d18245-b9da-44bd-8aea-d272ea74b63a",
   "metadata": {},
   "outputs": [
    {
     "data": {
      "text/html": [
       "<div>\n",
       "<style scoped>\n",
       "    .dataframe tbody tr th:only-of-type {\n",
       "        vertical-align: middle;\n",
       "    }\n",
       "\n",
       "    .dataframe tbody tr th {\n",
       "        vertical-align: top;\n",
       "    }\n",
       "\n",
       "    .dataframe thead th {\n",
       "        text-align: right;\n",
       "    }\n",
       "</style>\n",
       "<table border=\"1\" class=\"dataframe\">\n",
       "  <thead>\n",
       "    <tr style=\"text-align: right;\">\n",
       "      <th></th>\n",
       "      <th>user_id</th>\n",
       "      <th>date</th>\n",
       "      <th>group</th>\n",
       "      <th>purchase</th>\n",
       "      <th>price</th>\n",
       "    </tr>\n",
       "  </thead>\n",
       "  <tbody>\n",
       "    <tr>\n",
       "      <th>0</th>\n",
       "      <td>851104</td>\n",
       "      <td>2021-01-21</td>\n",
       "      <td>A</td>\n",
       "      <td>0</td>\n",
       "      <td>0</td>\n",
       "    </tr>\n",
       "    <tr>\n",
       "      <th>1</th>\n",
       "      <td>804228</td>\n",
       "      <td>2021-01-12</td>\n",
       "      <td>A</td>\n",
       "      <td>0</td>\n",
       "      <td>0</td>\n",
       "    </tr>\n",
       "    <tr>\n",
       "      <th>2</th>\n",
       "      <td>661590</td>\n",
       "      <td>2021-01-11</td>\n",
       "      <td>B</td>\n",
       "      <td>0</td>\n",
       "      <td>0</td>\n",
       "    </tr>\n",
       "    <tr>\n",
       "      <th>3</th>\n",
       "      <td>853541</td>\n",
       "      <td>2021-01-08</td>\n",
       "      <td>B</td>\n",
       "      <td>0</td>\n",
       "      <td>0</td>\n",
       "    </tr>\n",
       "    <tr>\n",
       "      <th>4</th>\n",
       "      <td>864975</td>\n",
       "      <td>2021-01-21</td>\n",
       "      <td>A</td>\n",
       "      <td>1</td>\n",
       "      <td>150000</td>\n",
       "    </tr>\n",
       "  </tbody>\n",
       "</table>\n",
       "</div>"
      ],
      "text/plain": [
       "   user_id        date group  purchase   price\n",
       "0   851104  2021-01-21     A         0       0\n",
       "1   804228  2021-01-12     A         0       0\n",
       "2   661590  2021-01-11     B         0       0\n",
       "3   853541  2021-01-08     B         0       0\n",
       "4   864975  2021-01-21     A         1  150000"
      ]
     },
     "execution_count": 212,
     "metadata": {},
     "output_type": "execute_result"
    }
   ],
   "source": [
    "data = pd.read_csv('data/ab_data_tourist.csv')\n",
    "data.head()"
   ]
  },
  {
   "attachments": {},
   "cell_type": "markdown",
   "id": "b7906c9d",
   "metadata": {},
   "source": [
    "```\n",
    "Название поля       Описание\n",
    "user_id\t            идентификатор пользователя, зашедшего на сайт\n",
    "date\t            дата захода\n",
    "group\t            группа теста (контрольная — А или тестовая — B)\n",
    "purchase\t    признак покупки: совершил ли пользователь покупку тура (1 — да, 0 — нет)\n",
    "price\t            цена купленного тура (если покупка не состоялась, цена равна 0)\n",
    "```"
   ]
  },
  {
   "cell_type": "markdown",
   "id": "2fc48225-26ac-49c4-b99d-8b2a03dd74a1",
   "metadata": {
    "tags": []
   },
   "source": [
    "## **Задание 7.1.**\n",
    "\n",
    "Начнем с исследования структуры наших данных. С помощью метода info() выведите информацию о типах данных и количестве непустых значений. Какой тип данных имеет столбец date?"
   ]
  },
  {
   "cell_type": "code",
   "execution_count": 213,
   "id": "23496521-4878-46e2-ab02-1a98be14884a",
   "metadata": {},
   "outputs": [
    {
     "name": "stdout",
     "output_type": "stream",
     "text": [
      "<class 'pandas.core.frame.DataFrame'>\n",
      "RangeIndex: 294478 entries, 0 to 294477\n",
      "Data columns (total 5 columns):\n",
      " #   Column    Non-Null Count   Dtype \n",
      "---  ------    --------------   ----- \n",
      " 0   user_id   294478 non-null  int64 \n",
      " 1   date      294478 non-null  object\n",
      " 2   group     294478 non-null  object\n",
      " 3   purchase  294478 non-null  int64 \n",
      " 4   price     294478 non-null  int64 \n",
      "dtypes: int64(3), object(2)\n",
      "memory usage: 11.2+ MB\n"
     ]
    }
   ],
   "source": [
    "data.info()"
   ]
  },
  {
   "cell_type": "markdown",
   "id": "946d017d-b4fe-4a17-b91d-0ce369d1ab2e",
   "metadata": {
    "tags": []
   },
   "source": [
    "## **Задание 7.2.**\n",
    "\n",
    "Приведите столбец date к типу данных datetime. Убедитесь в равной длительности проведения тестирования для каждой из группы. Для этого сгруппируйте данные по признаку группы и определите первую и последнюю дату наблюдения для каждой из групп. \n",
    "\n",
    "В какой промежуток времени проводился A/B-тест?\n"
   ]
  },
  {
   "cell_type": "code",
   "execution_count": 214,
   "id": "604c619d-6338-45c8-8248-ac098a2366bb",
   "metadata": {},
   "outputs": [
    {
     "name": "stdout",
     "output_type": "stream",
     "text": [
      "Group A: 2021-01-02 - 2021-01-24\n",
      "Group B: 2021-01-02 - 2021-01-24\n"
     ]
    }
   ],
   "source": [
    "data['date'] = pd.to_datetime(data['date'], format='%Y-%m-%d')\n",
    "\n",
    "grouped_data = data.groupby(['date','group']).agg({\n",
    "    'user_id':'count',\n",
    "    'purchase':'sum',\n",
    "    'price':'sum'}).reset_index().rename(columns={'user_id':'users_count'})\n",
    "mask_a = grouped_data['group'] == 'A'\n",
    "mask_b = grouped_data['group'] == 'B'\n",
    "\n",
    "print('Group A:', \n",
    "      grouped_data[mask_a]['date'].nsmallest(1).dt.date.values[0],\n",
    "      '-',\n",
    "      grouped_data[mask_a]['date'].nlargest(1).dt.date.values[0])\n",
    "print('Group B:', \n",
    "      grouped_data[mask_b]['date'].nsmallest(1).dt.date.values[0],\n",
    "      '-',\n",
    "      grouped_data[mask_b]['date'].nlargest(1).dt.date.values[0])"
   ]
  },
  {
   "cell_type": "markdown",
   "id": "e04eb341-52ae-48b3-9dc2-0578ca91641a",
   "metadata": {},
   "source": [
    "## **Задание 7.3.**\n",
    "\n",
    "* Чему равно количество посещений сайта в группах А и B?\n",
    "\n",
    "* Чему равно суммарное количество покупок в группах А и B?\n",
    "\n",
    "* Чему равна сумма всех покупок в группах А и B? Ответ приведите в миллионах рублей. Например, 185.52 млн. руб."
   ]
  },
  {
   "cell_type": "code",
   "execution_count": 215,
   "id": "02bf0148-488e-4f34-95bf-37794b2fa98b",
   "metadata": {},
   "outputs": [
    {
     "name": "stdout",
     "output_type": "stream",
     "text": [
      "Суммарное количество посещений в группе А - 147202, в группе B - 147276\n",
      "Суммарное количество покупок в группе А - 17723, в группе B - 17514\n",
      "Общая сумма всех покупок в группе А - 1436.26 млн.руб., в группе B - 1554.1 млн.руб.\n"
     ]
    }
   ],
   "source": [
    "quantity_a = grouped_data[mask_a]['users_count'].sum()\n",
    "quantity_b = grouped_data[mask_b]['users_count'].sum()\n",
    "\n",
    "sum_purchese_a = grouped_data[mask_a]['purchase'].sum()\n",
    "sum_purchese_b = grouped_data[mask_b]['purchase'].sum()\n",
    "\n",
    "amount_price_a = grouped_data[mask_a]['price'].sum()\n",
    "amount_price_b = grouped_data[mask_b]['price'].sum()\n",
    "\n",
    "print(f'Суммарное количество посещений в группе А - {quantity_a}, в группе B - {quantity_b}')\n",
    "print(f'Суммарное количество покупок в группе А - {sum_purchese_a}, в группе B - {sum_purchese_b}')\n",
    "print(f'Общая сумма всех покупок в группе А - {amount_price_a/1000000} млн.руб., в группе B - {amount_price_b/1000000} млн.руб.')"
   ]
  },
  {
   "cell_type": "markdown",
   "id": "2434db1b-17e6-4977-8e54-1df875c6f221",
   "metadata": {
    "tags": []
   },
   "source": [
    "## **Задание 7.4.**\n",
    "\n",
    "Проверьте, есть ли пользователи, которые в процессе A/B-теста попали в обе тестовые группы? Если да, то сколько таких уникальных пользователей, если нет - введите в поле для ответа 0?\n",
    "\n",
    "**Подсказка:**\n",
    "\n",
    "*Создайте множество пользователей группы А и множество пользователей группы B. Пересеките два этих множества (операция intersection) и вычислите количество элементов в полученном множестве.*\n"
   ]
  },
  {
   "cell_type": "code",
   "execution_count": 216,
   "id": "57a2d711-057d-4f8b-9f56-df0f772d41c8",
   "metadata": {},
   "outputs": [
    {
     "name": "stdout",
     "output_type": "stream",
     "text": [
      "1895 пользователей попали в обе группы\n"
     ]
    }
   ],
   "source": [
    "users_a = set(data[data['group'] == 'A']['user_id']) \n",
    "users_b = set(data[data['group'] == 'B']['user_id'])\n",
    "\n",
    "users_ab = users_a.intersection(users_b) # множество id пользователей, которые есть в обеих группах\n",
    "\n",
    "print(f'{len(users_ab)} пользователей попали в обе группы')"
   ]
  },
  {
   "cell_type": "markdown",
   "id": "118b1904-7d7a-4935-825e-535da45c611b",
   "metadata": {
    "tags": []
   },
   "source": [
    "## **Исключите пользователей, оказавшихся в обеих группах**\n",
    "\n",
    "Так как мы не можем определить, какая из версий сайта повлияла на принятие решения, исключим этих пользователей. Далее мы будем работать только с очищенными от пересечений данными.\n",
    "\n",
    "Возможный вариант исключения пользователей:"
   ]
  },
  {
   "cell_type": "code",
   "execution_count": 217,
   "id": "f618b34b-35a3-4bf1-8d6d-38b3401930b7",
   "metadata": {},
   "outputs": [
    {
     "name": "stdout",
     "output_type": "stream",
     "text": [
      "0 пользователей попали в обе группы\n"
     ]
    }
   ],
   "source": [
    "updated_data = data[data['user_id'].apply(lambda x: x not in users_ab)]\n",
    "\n",
    "update_users_a = set(updated_data[updated_data['group'] == 'A']['user_id']) \n",
    "update_users_b = set(updated_data[updated_data['group'] == 'B']['user_id'])\n",
    "\n",
    "update_users_ab = update_users_a.intersection(update_users_b) # множество id пользователей, которые есть в обеих группах\n",
    "\n",
    "print(f'{len(update_users_ab)} пользователей попали в обе группы')"
   ]
  },
  {
   "attachments": {},
   "cell_type": "markdown",
   "id": "2bce6c9a-6580-4250-b280-204d40d20da2",
   "metadata": {},
   "source": [
    "Где users_ab - множество пересечений пользователей групп А и B."
   ]
  },
  {
   "attachments": {
    "95f235d2-6323-4799-bf69-697fc57f727b.png": {
     "image/png": "[encoded data removed]"
    }
   },
   "cell_type": "markdown",
   "id": "2ddf6b2c-7987-41f3-82b1-8992630ae97b",
   "metadata": {
    "tags": []
   },
   "source": [
    "## **Задание 7.5.**\n",
    "\n",
    "Для первичного анализа результатов A/B-тестирования нам понадобится таблица следующего вида:\n",
    "\n",
    "![image.png](attachment:95f235d2-6323-4799-bf69-697fc57f727b.png)\n",
    " \n",
    " \n",
    "Для того, чтобы получить такую таблицу, сгруппируйте данные по признаку группы. В каждой группе рассчитайте следующие показатели:\n",
    "* количество посещений (количество пользователей)\n",
    "* количество совершенных покупок\n",
    "* сумма всех покупок в группе\n",
    "\n",
    "В полученной сгруппированной таблице переименуйте столбцы на **count_visits, count_purchases и sum_price**.\n",
    "\n",
    "**Подсказка:**\n",
    "\n",
    "*Для переименования столбцов можно использовать метод rename() с параметром columns, в который передается словарь. Ключи этого словаря - старые имена столбцов, а значения - новые.*\n",
    "\n",
    "Чему на этот раз равно количество посещений сайта в группах А и B?\n"
   ]
  },
  {
   "cell_type": "code",
   "execution_count": 218,
   "id": "5c0c018e-a250-48e9-b72a-e3c7be586ebd",
   "metadata": {},
   "outputs": [
    {
     "data": {
      "text/html": [
       "<div>\n",
       "<style scoped>\n",
       "    .dataframe tbody tr th:only-of-type {\n",
       "        vertical-align: middle;\n",
       "    }\n",
       "\n",
       "    .dataframe tbody tr th {\n",
       "        vertical-align: top;\n",
       "    }\n",
       "\n",
       "    .dataframe thead th {\n",
       "        text-align: right;\n",
       "    }\n",
       "</style>\n",
       "<table border=\"1\" class=\"dataframe\">\n",
       "  <thead>\n",
       "    <tr style=\"text-align: right;\">\n",
       "      <th></th>\n",
       "      <th>count_visits</th>\n",
       "      <th>count_purchase</th>\n",
       "      <th>sum_price</th>\n",
       "    </tr>\n",
       "    <tr>\n",
       "      <th>group</th>\n",
       "      <th></th>\n",
       "      <th></th>\n",
       "      <th></th>\n",
       "    </tr>\n",
       "  </thead>\n",
       "  <tbody>\n",
       "    <tr>\n",
       "      <th>A</th>\n",
       "      <td>145307</td>\n",
       "      <td>17487</td>\n",
       "      <td>1417780000</td>\n",
       "    </tr>\n",
       "    <tr>\n",
       "      <th>B</th>\n",
       "      <td>145381</td>\n",
       "      <td>17290</td>\n",
       "      <td>1533010000</td>\n",
       "    </tr>\n",
       "  </tbody>\n",
       "</table>\n",
       "</div>"
      ],
      "text/plain": [
       "       count_visits  count_purchase   sum_price\n",
       "group                                          \n",
       "A            145307           17487  1417780000\n",
       "B            145381           17290  1533010000"
      ]
     },
     "metadata": {},
     "output_type": "display_data"
    }
   ],
   "source": [
    "ab_data = updated_data.groupby(['group']).agg({\n",
    "    'user_id':'count',\n",
    "    'purchase':'sum',\n",
    "    'price':'sum'\n",
    "    }).rename(columns={\n",
    "        'user_id':'count_visits', \n",
    "        'purchase':'count_purchase', \n",
    "        'price':'sum_price'})\n",
    "display(ab_data)"
   ]
  },
  {
   "cell_type": "markdown",
   "id": "b71e1390-9846-4a8e-b357-f82b847d1952",
   "metadata": {},
   "source": [
    "Приведите промежуточные выводы по построенной таблице. Сопоставимо ли количество посещений обоих вариантов посадочной странице, можно ли говорить о сбалансированности выборок?"
   ]
  },
  {
   "attachments": {},
   "cell_type": "markdown",
   "id": "4ea1b65b-475e-4bff-9460-fac0acdb9620",
   "metadata": {},
   "source": [
    "### ***Промежуточный вывод***\n",
    "\n",
    "Как видно из таблицы количество посещений в двух группах имеют один порядок и отличаются незначительно, поэтому выборки можно считать сбалансированными."
   ]
  },
  {
   "cell_type": "markdown",
   "id": "afb2ee0a-31d1-45a5-be42-a2bf168b9448",
   "metadata": {
    "tags": []
   },
   "source": [
    "## **Задание 7.6.**\n",
    "\n",
    "Добавьте в сгруппированную таблицу столбцы conversion - конверсия покупки (отношение количества покупок к количеству посещений сайта в каждой группе, выраженное в процентах) и mean_check - средний чек (отношение суммы покупок к количеству покупок в каждой группе).\n",
    "\n",
    "* Чему равна конверсия в группах? Ответ приведите в процентах и округлите до сотых. Например, 75.12 %\n",
    "* Чему равен средний чек в группах? Ответ приведите в рублях и округлите до целых. Например, 120519 рублей."
   ]
  },
  {
   "cell_type": "code",
   "execution_count": 219,
   "id": "bd9c3b3e-5956-41a8-bae0-43693f6de1f2",
   "metadata": {},
   "outputs": [
    {
     "name": "stdout",
     "output_type": "stream",
     "text": [
      "Конверсия в группе A: 12.03 \n",
      "Конверсия в группе B: 11.89\n",
      "Средний чек в группе А: 81076 \n",
      "Средний чек в группе B: 88665\n"
     ]
    }
   ],
   "source": [
    "ab_data['conversion'] = ab_data['count_purchase']/ab_data['count_visits']*100\n",
    "ab_data['mean_check'] = ab_data['sum_price']/ab_data['count_purchase']\n",
    "\n",
    "#display(ab_data)\n",
    "\n",
    "print(\n",
    "    'Конверсия в группе A:', \n",
    "    round(ab_data['conversion'][0], 2),\n",
    "    '\\nКонверсия в группе B:',\n",
    "    round(ab_data['conversion'][1], 2)\n",
    "    )\n",
    "print(\n",
    "    'Средний чек в группе А:', \n",
    "    round(ab_data['mean_check'][0]),\n",
    "    '\\nСредний чек в группе B:',\n",
    "    round(ab_data['mean_check'][1])\n",
    "    )"
   ]
  },
  {
   "cell_type": "markdown",
   "id": "1eb6e140-c702-43e0-b301-9914a7f49448",
   "metadata": {},
   "source": [
    "Приведите промежуточные выводы по таблице. По какому(им) показателю(ям) вариант А эффективнее варианта B и наоборот?"
   ]
  },
  {
   "attachments": {},
   "cell_type": "markdown",
   "id": "9e88c883-84f9-44ec-accd-04d5d459b261",
   "metadata": {},
   "source": [
    "### ***Промежуточный вывод***\n",
    "\n",
    "Исходя из полученных данных конверсия в группе А больше, чем в группе В. А средний чек для группы В превосходит средний чек для группы А. Поэтому пока сложно судить об эффективности какой-то из групп."
   ]
  },
  {
   "cell_type": "markdown",
   "id": "7f9f1ae0-f12f-49b3-8b57-1c299c208c49",
   "metadata": {
    "tags": []
   },
   "source": [
    "## **Задание 7.7.**\n",
    "\n",
    "Теперь давайте сравним варианты по покупательской способности туров. Для этого постройте сводную таблицу, которая покажет зависимость количества продаж от группы и цены тура. "
   ]
  },
  {
   "cell_type": "code",
   "execution_count": 220,
   "id": "78d46a02-cc30-4783-9b18-9fc9c6a08012",
   "metadata": {},
   "outputs": [],
   "source": [
    "purchasing_power = updated_data.groupby(['price','group']).agg({'purchase':'sum'}).rename(columns={'purchase':'count_purchase'})\n",
    "#display(purchasing_power)"
   ]
  },
  {
   "cell_type": "markdown",
   "id": "977423ed-8f8d-475c-b773-621edd95338d",
   "metadata": {},
   "source": [
    "Визуализируйте полученную сводную таблицу с помощью тепловой карты с аннотацией. \n",
    "Чему равно количество проданных туров за 60000 рублей в группах?"
   ]
  },
  {
   "cell_type": "code",
   "execution_count": 221,
   "id": "f634fa8d-585c-42e3-b7d5-78e8d9eaa8c5",
   "metadata": {},
   "outputs": [
    {
     "data": {
      "image/png": "[encoded data removed]",
      "text/plain": [
       "<Figure size 640x480 with 2 Axes>"
      ]
     },
     "metadata": {},
     "output_type": "display_data"
    }
   ],
   "source": [
    "ax = sns.heatmap(purchasing_power, annot=True, fmt='.0f')\n",
    "ax.set_title('Зависимость количества продаж от группы и цены тура')\n",
    "ax.set_xlabel('Количество проданных туров')\n",
    "ax.set_ylabel('Цена тура - Группа пользователей');"
   ]
  },
  {
   "cell_type": "markdown",
   "id": "9caa92ca-e261-4b8f-a16c-2abc322c9ffb",
   "metadata": {},
   "source": [
    "Сделайте выводы по построенной таблице. По каким турам покупательская способность участников группы А выше, чем участников группы B и наоборот?"
   ]
  },
  {
   "attachments": {},
   "cell_type": "markdown",
   "id": "6d13fd45-e3df-468f-9d32-1fc45d38b10c",
   "metadata": {},
   "source": [
    "### ***Промежуточный вывод***\n",
    "\n",
    "Для туров стоимостью 10 000, 150 000 и 200 000 рублей количество проданных туров в группах отличается незначительно. Для туров стоимостью 60 000 в группе А продано больше туров, чем в группе В, а вот для туров стоимостью 100 000 наоборот в группе В продано больше. Исходя из полученного можно заключить, что в группе В было продано большее количество дорогих туров по сравнению с группой А, что мы ранее получили и при сравнении средних чеков. Также можно заметить, что в наших данных нет проданных туров дешевле 10 000 рублей."
   ]
  },
  {
   "cell_type": "markdown",
   "id": "8f021fb4-d0f6-4e43-b518-1a96c07a4531",
   "metadata": {
    "tags": []
   },
   "source": [
    "## **Задание 7.8.**\n",
    "\n",
    "Настало время поговорить о стабилизации кумулятивных метрик во времени. Но прежде, чем перейти к кумулятивным метрикам, нам необходимо построить таблицу с ежедневными данными результатов проведения A/B-тестирования.\n",
    "\n",
    "Сгруппируйте данные по дате и группе тестирования. В каждой группе вычислите количество посещений страницы, количество покупок и сумму покупок. \n",
    "\n",
    "Добавьте в таблицу информацию о ежедневной конверсии (ежедневное количество покупок / ежедневное количество посещений) в группе и ежедневном среднем чеке (ежедневная сумма покупок / ежедневное количество покупок)\n",
    "* Чему равна конверсия 3 января 2021 года? Ответ приведите в процентах и округлите до сотых.\n",
    "\n",
    "* Чему равен средний чек 3 января 2021 года? Ответ приведите в рублях и округлите до целого."
   ]
  },
  {
   "cell_type": "code",
   "execution_count": 222,
   "id": "4503b528-412e-433a-bc03-da7da52fa1a3",
   "metadata": {},
   "outputs": [
    {
     "name": "stdout",
     "output_type": "stream",
     "text": [
      "Конверсия в группе А 3 января 2021 года: 11.34\n",
      "Конверсия в группе В 3 января 2021 года: 11.39\n",
      "Средний чек в группе А 3 января 2021 года: 82888\n",
      "Средний чек в группе В 3 января 2021 года: 87480\n"
     ]
    }
   ],
   "source": [
    "daily_data = updated_data.groupby(['date','group']).agg({\n",
    "    'user_id':'count',\n",
    "    'purchase':'sum',\n",
    "    'price':'sum'\n",
    "}).reset_index().rename(columns={\n",
    "    'user_id':'count_visits',\n",
    "    'purchase':'count_purchase',\n",
    "    'price':'sum_price'\n",
    "    })\n",
    "\n",
    "#display(daily_data.head())\n",
    "\n",
    "daily_data['daily_conversion'] = daily_data['count_purchase']/daily_data['count_visits']*100\n",
    "daily_data['daily_mean_check'] = daily_data['sum_price']/daily_data['count_purchase']\n",
    "\n",
    "mask_date_a = (daily_data['date'] == '2021-01-03')&(daily_data['group'] == 'A')\n",
    "mask_date_b = (daily_data['date'] == '2021-01-03')&(daily_data['group'] == 'B')\n",
    "\n",
    "print('Конверсия в группе А 3 января 2021 года:', round(daily_data[mask_date_a]['daily_conversion'].values[0],2))\n",
    "print('Конверсия в группе В 3 января 2021 года:', round(daily_data[mask_date_b]['daily_conversion'].values[0],2))\n",
    "print('Средний чек в группе А 3 января 2021 года:', round(daily_data[mask_date_a]['daily_mean_check'].values[0]))\n",
    "print('Средний чек в группе В 3 января 2021 года:', round(daily_data[mask_date_b]['daily_mean_check'].values[0]))"
   ]
  },
  {
   "cell_type": "markdown",
   "id": "bc8e241b-1ef1-4f67-ab90-77251889b7f2",
   "metadata": {},
   "source": [
    "## **Задание 7.9.** \n",
    "\n",
    "Добавьте в таблицу с ежедневными показателями кумулятивные признаки:\n",
    "* кумулятивное количество посещений страницы\n",
    "* кумулятивное количество покупок\n",
    "* кумулятивную сумму покупок\n",
    "\n",
    "Не забудьте при расчете кумулятивной суммы сгруппировать данные по группам. \n",
    "\n",
    "Вычислите кумулятивную конверсию и кумулятивный средний чек на основе полученных кумулятивных показателей. \n",
    "\n",
    "* Какая **кумулятивная** конверсия была в группе B на 20 января? Ответ приведите в процентах, округлив до сотых.\n",
    "* Какой **кумулятивный** средний чек был в группе А на 12 января 2021 года? Ответ приведите в рублях, округлив до целых."
   ]
  },
  {
   "cell_type": "code",
   "execution_count": 223,
   "id": "afe59f9a-8d39-45c1-a14f-9f62091d81a1",
   "metadata": {},
   "outputs": [
    {
     "data": {
      "text/html": [
       "<div>\n",
       "<style scoped>\n",
       "    .dataframe tbody tr th:only-of-type {\n",
       "        vertical-align: middle;\n",
       "    }\n",
       "\n",
       "    .dataframe tbody tr th {\n",
       "        vertical-align: top;\n",
       "    }\n",
       "\n",
       "    .dataframe thead th {\n",
       "        text-align: right;\n",
       "    }\n",
       "</style>\n",
       "<table border=\"1\" class=\"dataframe\">\n",
       "  <thead>\n",
       "    <tr style=\"text-align: right;\">\n",
       "      <th></th>\n",
       "      <th>date</th>\n",
       "      <th>group</th>\n",
       "      <th>count_visits</th>\n",
       "      <th>count_purchase</th>\n",
       "      <th>sum_price</th>\n",
       "      <th>daily_conversion</th>\n",
       "      <th>daily_mean_check</th>\n",
       "      <th>cum_count_visits</th>\n",
       "      <th>cum_purchase</th>\n",
       "      <th>cum_sum_price</th>\n",
       "      <th>cum_conversion</th>\n",
       "      <th>cum_mean_check</th>\n",
       "    </tr>\n",
       "  </thead>\n",
       "  <tbody>\n",
       "    <tr>\n",
       "      <th>0</th>\n",
       "      <td>2021-01-02</td>\n",
       "      <td>A</td>\n",
       "      <td>2854</td>\n",
       "      <td>359</td>\n",
       "      <td>29410000</td>\n",
       "      <td>12.578837</td>\n",
       "      <td>81922.005571</td>\n",
       "      <td>2854</td>\n",
       "      <td>359</td>\n",
       "      <td>29410000</td>\n",
       "      <td>12.578837</td>\n",
       "      <td>81922.005571</td>\n",
       "    </tr>\n",
       "    <tr>\n",
       "      <th>1</th>\n",
       "      <td>2021-01-02</td>\n",
       "      <td>B</td>\n",
       "      <td>2861</td>\n",
       "      <td>345</td>\n",
       "      <td>29660000</td>\n",
       "      <td>12.058721</td>\n",
       "      <td>85971.014493</td>\n",
       "      <td>2861</td>\n",
       "      <td>345</td>\n",
       "      <td>29660000</td>\n",
       "      <td>12.058721</td>\n",
       "      <td>85971.014493</td>\n",
       "    </tr>\n",
       "    <tr>\n",
       "      <th>2</th>\n",
       "      <td>2021-01-03</td>\n",
       "      <td>A</td>\n",
       "      <td>6596</td>\n",
       "      <td>748</td>\n",
       "      <td>62000000</td>\n",
       "      <td>11.340206</td>\n",
       "      <td>82887.700535</td>\n",
       "      <td>9450</td>\n",
       "      <td>1107</td>\n",
       "      <td>91410000</td>\n",
       "      <td>11.714286</td>\n",
       "      <td>82574.525745</td>\n",
       "    </tr>\n",
       "    <tr>\n",
       "      <th>3</th>\n",
       "      <td>2021-01-03</td>\n",
       "      <td>B</td>\n",
       "      <td>6619</td>\n",
       "      <td>754</td>\n",
       "      <td>65960000</td>\n",
       "      <td>11.391449</td>\n",
       "      <td>87480.106101</td>\n",
       "      <td>9480</td>\n",
       "      <td>1099</td>\n",
       "      <td>95620000</td>\n",
       "      <td>11.592827</td>\n",
       "      <td>87006.369427</td>\n",
       "    </tr>\n",
       "    <tr>\n",
       "      <th>4</th>\n",
       "      <td>2021-01-04</td>\n",
       "      <td>A</td>\n",
       "      <td>6566</td>\n",
       "      <td>799</td>\n",
       "      <td>64250000</td>\n",
       "      <td>12.168748</td>\n",
       "      <td>80413.016270</td>\n",
       "      <td>16016</td>\n",
       "      <td>1906</td>\n",
       "      <td>155660000</td>\n",
       "      <td>11.900599</td>\n",
       "      <td>81668.415530</td>\n",
       "    </tr>\n",
       "  </tbody>\n",
       "</table>\n",
       "</div>"
      ],
      "text/plain": [
       "        date group  count_visits  count_purchase  sum_price  daily_conversion  \\\n",
       "0 2021-01-02     A          2854             359   29410000         12.578837   \n",
       "1 2021-01-02     B          2861             345   29660000         12.058721   \n",
       "2 2021-01-03     A          6596             748   62000000         11.340206   \n",
       "3 2021-01-03     B          6619             754   65960000         11.391449   \n",
       "4 2021-01-04     A          6566             799   64250000         12.168748   \n",
       "\n",
       "   daily_mean_check  cum_count_visits  cum_purchase  cum_sum_price  \\\n",
       "0      81922.005571              2854           359       29410000   \n",
       "1      85971.014493              2861           345       29660000   \n",
       "2      82887.700535              9450          1107       91410000   \n",
       "3      87480.106101              9480          1099       95620000   \n",
       "4      80413.016270             16016          1906      155660000   \n",
       "\n",
       "   cum_conversion  cum_mean_check  \n",
       "0       12.578837    81922.005571  \n",
       "1       12.058721    85971.014493  \n",
       "2       11.714286    82574.525745  \n",
       "3       11.592827    87006.369427  \n",
       "4       11.900599    81668.415530  "
      ]
     },
     "metadata": {},
     "output_type": "display_data"
    },
    {
     "name": "stdout",
     "output_type": "stream",
     "text": [
      "Кумулятивная конверсия в группе В 20 января 2021 года: 11.9\n",
      "Кумулятивный средний чек в группе А 12 января 2021 года: 81492\n"
     ]
    }
   ],
   "source": [
    "daily_data['cum_count_visits'] = daily_data.groupby(['group'])['count_visits'].cumsum()\n",
    "daily_data['cum_purchase'] = daily_data.groupby(['group'])['count_purchase'].cumsum()\n",
    "daily_data['cum_sum_price'] = daily_data.groupby(['group'])['sum_price'].cumsum()\n",
    "daily_data['cum_conversion'] = daily_data['cum_purchase']/daily_data['cum_count_visits'] * 100\n",
    "daily_data['cum_mean_check'] = daily_data['cum_sum_price']/daily_data['cum_purchase']\n",
    "display(daily_data.head())\n",
    "\n",
    "mask_cum_b= (daily_data['date'] == '2021-01-20')&(daily_data['group'] == 'B')\n",
    "mask_cum_a = (daily_data['date'] == '2021-01-12')&(daily_data['group'] == 'A')\n",
    "\n",
    "print('Кумулятивная конверсия в группе В 20 января 2021 года:', \n",
    "      round(daily_data[mask_cum_b]['cum_conversion'].values[0],2)\n",
    "      )\n",
    "print('Кумулятивный средний чек в группе А 12 января 2021 года:', \n",
    "      round(daily_data[mask_cum_a]['cum_mean_check'].values[0])\n",
    "      )"
   ]
  },
  {
   "cell_type": "markdown",
   "id": "c252b8ba-371b-4795-8fc3-a62317e9ba39",
   "metadata": {},
   "source": [
    "Постройте кумулятивные графики конверсии и среднего чека в каждой группе по дням. Сделайте выводы. Можно ли назвать A/B-тест завершенным - стабилизировались ли значения метрик во времени? Как соотносятся кумулятивные показатели в каждой группе?"
   ]
  },
  {
   "cell_type": "code",
   "execution_count": 224,
   "id": "27e23d20-7ed6-4a26-973d-6d0320b81adb",
   "metadata": {},
   "outputs": [
    {
     "data": {
      "image/png": "[encoded data removed]",
      "text/plain": [
       "<Figure size 800x400 with 1 Axes>"
      ]
     },
     "metadata": {},
     "output_type": "display_data"
    }
   ],
   "source": [
    "fig = plt.figure(figsize=(8, 4))\n",
    "ax = fig.add_axes([1, 1, 1, 1])\n",
    "\n",
    "sns.lineplot(\n",
    "    data=daily_data,\n",
    "    x='date',\n",
    "    y='cum_conversion',\n",
    "    hue='group', \n",
    "    ax=ax\n",
    ")\n",
    "\n",
    "ax.set_title('График конверсии по дням')\n",
    "ax.xaxis.set_tick_params(rotation=45)\n",
    "ax.set_xlabel('Дата')\n",
    "ax.set_ylabel('Кумулятивная конверсия')\n",
    "ax.legend(title='Группа')\n",
    "ax.grid(linestyle=':');"
   ]
  },
  {
   "attachments": {},
   "cell_type": "markdown",
   "id": "f645f8e5-ad16-4b3b-8228-fbdeeb286833",
   "metadata": {},
   "source": [
    "### ***Промежуточный вывод***\n",
    "\n",
    "Начиная с 17 января 2021 года конверсии в группах имеют приблизительно идентичное поведение (одинаковые точки роста и спада). При этом конверсия в группе А стабильно выше конверсии в группе В на данном периоде. При этом практически на всем промежутке времени конверсия в группе А показывает лучший результат, чем в группе В."
   ]
  },
  {
   "cell_type": "markdown",
   "id": "2ecaa382-56e2-47f4-b086-24b4742570a3",
   "metadata": {
    "tags": []
   },
   "source": [
    "## **Задание 7.10.**\n",
    "\n",
    "Настало время переходить к проверке статистической значимости разницы между метриками в группах. Начнем с конверсии.\n",
    "\n",
    "Какой тест вы примените для проверки гипотезы о равенстве конверсий в группах?\n",
    "\n",
    "Проведите тестирование при следующих нулевой и альтернативной гипотезе:\n",
    "* $H_0$: Конверсии в группах А и B равны; \n",
    "* $H_1$: Конверсия в группе А больше чем конверсия в группе B;\n",
    "\n",
    "Вычислите p-value вашего теста для конверсий в группах А и B. Сравните полученное значение p-value с уровнем значимости $\\alpha$=0.05. "
   ]
  },
  {
   "cell_type": "code",
   "execution_count": 225,
   "id": "9dd1f6fd-2fa0-4a2f-8181-dbed4c302bce",
   "metadata": {},
   "outputs": [
    {
     "name": "stdout",
     "output_type": "stream",
     "text": [
      "p-value:  0.12\n",
      "Принимаем нулевую гипотезу. Конверсии в группах А и B равны\n"
     ]
    }
   ],
   "source": [
    "H0 = 'Конверсии в группах А и B равны'\n",
    "H1 = 'Конверсия в группе А выше, чем конверсия в группе B'\n",
    "alpha = 0.05 \n",
    "\n",
    "_, p_value = proportions_ztest(\n",
    "    count=ab_data['count_purchase'],\n",
    "    nobs=ab_data['count_visits'],\n",
    "    alternative='larger',\n",
    ")\n",
    "\n",
    "print('p-value: ', round(p_value, 2))\n",
    "\n",
    "if (p_value < alpha): \n",
    "    print(\"Отвергаем нулевую гипотезу. {}\".format(H0))\n",
    "    print(\"Альтернативная гипотеза. H1: {}\".format(H1))\n",
    "else:\n",
    "    print(\"Принимаем нулевую гипотезу. {}\".format(H0))"
   ]
  },
  {
   "cell_type": "markdown",
   "id": "da794b48-80e3-47af-aceb-084a1862c86b",
   "metadata": {},
   "source": [
    "Приведите свои выводы по результатам проведенного статистического теста. Есть ли статистическая разница между конверсиями в группах А и B?"
   ]
  },
  {
   "attachments": {},
   "cell_type": "markdown",
   "id": "75dddb06-389d-4d65-92c7-425efa28e51a",
   "metadata": {},
   "source": [
    "### ***Промежуточный вывод***\n",
    "\n",
    "Используя z-тест для проверки гипотезы равенства пропорций, получили, что значение $p-value > \\alpha=0.05$, а это значит, что мы принимаем нулевую гипотезу о равенстве конверсии в группах А и В. Значит с точки зрения статистической значимости, данные группы не имеют значимых отличий в метрике конверсии и варианты посадочных страниц одинаково эффективны."
   ]
  },
  {
   "cell_type": "markdown",
   "id": "32c5a1af-8cb2-4f3c-a126-410b70fb3ff3",
   "metadata": {
    "tags": []
   },
   "source": [
    "## **Задание 7.11.**\n",
    "Убедитесь в своих рассуждениях, построив 95%-ый доверительный интервал для конверсий и разницы между ними. Используйте $z_{крит}$ в своих расчетах\n",
    "\n",
    "Укажите нижнюю и верхнюю границы доверительных интервалов. Границы приведите в процентах и округлите до 2 знака после запятой. Например: нижняя граница 89.24%, верхняя граница 91.25%."
   ]
  },
  {
   "cell_type": "code",
   "execution_count": 250,
   "id": "e9decb7d-ff5e-40a6-8b71-63627c4ef64a",
   "metadata": {},
   "outputs": [
    {
     "name": "stdout",
     "output_type": "stream",
     "text": [
      "Доверительный интервал А: 11.87 - 12.2\n",
      "Доверительный интервал B: 11.73 - 12.06\n",
      "Доверительный интервал для разности конверсий: -0.38 - 0.09\n"
     ]
    },
    {
     "data": {
      "image/png": "[encoded data removed]",
      "text/plain": [
       "<Figure size 800x200 with 1 Axes>"
      ]
     },
     "metadata": {},
     "output_type": "display_data"
    }
   ],
   "source": [
    "gamma = 0.95\n",
    "alpha = 1 - gamma\n",
    "z_crit = -norm.ppf(alpha/2)\n",
    "\n",
    "a_data = updated_data[updated_data['group'] == 'A']\n",
    "n_a=a_data['user_id'].count()\n",
    "x_p_a=a_data['purchase'].mean()\n",
    "\n",
    "eps_a = z_crit * (x_p_a * (1 - x_p_a) / n_a) ** 0.5\n",
    "lower_bound_a = x_p_a - eps_a\n",
    "upper_bound_a = x_p_a + eps_a\n",
    "print('Доверительный интервал А:', round(lower_bound_a * 100, 2), '-', round(upper_bound_a * 100, 2))\n",
    "\n",
    "b_data = updated_data[updated_data['group'] == 'B']\n",
    "n_b=b_data['user_id'].count()\n",
    "x_p_b=b_data['purchase'].mean()\n",
    "\n",
    "eps_b = z_crit * (x_p_b * (1 - x_p_b) / n_b) ** 0.5\n",
    "lower_bound_b = x_p_b - eps_b\n",
    "upper_bound_b = x_p_b + eps_b\n",
    "print('Доверительный интервал B:', round(lower_bound_b * 100, 2), '-', round(upper_bound_b * 100, 2))\n",
    "\n",
    "n_ab = [a_data['user_id'].count(), b_data['user_id'].count()]\n",
    "x_p_ab= [a_data['purchase'].mean(), b_data['purchase'].mean()]\n",
    "\n",
    "diff = x_p_ab[1] - x_p_ab[0]\n",
    "eps_delta = z_crit * (x_p_ab[0] * (1 - x_p_ab[0])/n_ab[0] + x_p_ab[1] * (1 - x_p_ab[1])/n_ab[1]) ** 0.5\n",
    "lower_bound_delta = diff - eps_delta\n",
    "upper_bound_delta = diff + eps_delta\n",
    "print('Доверительный интервал для разности конверсий:', round(lower_bound_delta * 100, 2), '-', round(upper_bound_delta * 100, 2))\n",
    "\n",
    "x_a = [round(lower_bound_a * 100, 2), round(upper_bound_a * 100, 2)]\n",
    "y_a = [0, 0]\n",
    "x_b = [round(lower_bound_b * 100, 2), round(upper_bound_b * 100, 2)]\n",
    "y_b = [0.1, 0.1]\n",
    "\n",
    "fig = plt.figure(figsize=(8, 2))\n",
    "ax = fig.add_axes([1, 1, 1, 1])\n",
    "plt.plot(x_a, y_a, x_b, y_b, 12, 0.5)\n",
    "ax.grid(linestyle=':');\n"
   ]
  },
  {
   "cell_type": "markdown",
   "id": "9332372d-66b2-45e9-a74c-f5d8b1d44afb",
   "metadata": {},
   "source": [
    "Проинтерпретируйте построенные доверительные интервалы для конверсий в группах. Есть ли перекрытие между доверительными интервалами для групп? Есть ли статистическая разница между конверсиями в группах А и B?"
   ]
  },
  {
   "attachments": {},
   "cell_type": "markdown",
   "id": "4721cae1",
   "metadata": {},
   "source": [
    "### ***Промежуточный вывод***\n",
    "\n",
    "С надежностью в 95% конверсия группы А $\\in (11.87, 12.2)$, а конверсия группы B $\\in (11.73, 12.06)$. На схематичном изображении доверительных интервалов видно пересечение, а это значит, что значение конверсии для генеральной совокупности в обеих группах может совпасть. При этом доверительный интервал разности конверсий охватывает $0$, из чего можно сделать вывод, что варианты посадочных страниц по метрике конверсии равнозначны и статистической разницы между группами А и В не существует."
   ]
  },
  {
   "cell_type": "markdown",
   "id": "73c54883-b919-4889-bbf2-e1bdeb0b7055",
   "metadata": {},
   "source": [
    "## **Задание 7.12.**\n",
    "\n",
    "Ранее мы построили таблицу с ежедневными показателями. Теперь она нам снова понадобится, так как нас интересует ежедневный средний чек.\n",
    "\n",
    "Проверьте гипотезу о нормальности распределения ежедневного среднего чека в каждой из групп тестирования. \n",
    "\n",
    "* Какой тест вы примените  для проверки гипотезы о нормальности распределения ежедневного среднего чека?\n",
    "* Как будут звучать нулевая и альтернативная гипотезы?\n",
    "* Каковы результаты статистического теста с уровнем значимости $\\alpha$ =0.05?"
   ]
  },
  {
   "cell_type": "code",
   "execution_count": null,
   "id": "898041ae-de7e-4b74-975e-111d494fbb82",
   "metadata": {},
   "outputs": [],
   "source": [
    "# ваш код здесь"
   ]
  },
  {
   "cell_type": "markdown",
   "id": "cbddecf9-4d15-4ff1-84e9-46c4d98fc1e0",
   "metadata": {
    "tags": []
   },
   "source": [
    "## **Задание 7.13.**\n",
    "Настало время сравнить варианты дизайна страницы по метрике среднего чека. \n",
    "\n",
    "Какой тест вы примените для проверки гипотезы о равенстве средних чеков по дням в группах?\n",
    "\n",
    "Проведите тестирование при следующих нулевой и альтернативной гипотезе:\n",
    "* $H_0$: Ежедневные средние чеки в группах А и B равны; \n",
    "* $H_1$: Ежедневный средний чек в группе А меньше чем в группе B;\n",
    "\n",
    "Вычислите p-value вашего теста для ежедневного среднего чека в группах А и B. Сравните полученное значение p-value с уровнем значимости $\\alpha$ =0.05. "
   ]
  },
  {
   "cell_type": "code",
   "execution_count": null,
   "id": "05d43f23-2c2d-4795-bb96-1ffbfe81c391",
   "metadata": {},
   "outputs": [],
   "source": [
    "# ваш код здесь"
   ]
  },
  {
   "cell_type": "markdown",
   "id": "8534ab25-68b8-48f7-b2c1-ef1b72d8a767",
   "metadata": {},
   "source": [
    " Приведите свои выводы по проведенному статистическому тесту. Есть ли статистическая разница между ежедневными средними чеками в группах А и B?"
   ]
  },
  {
   "cell_type": "code",
   "execution_count": null,
   "id": "d8258dfd-14e7-4af4-bc6c-19ea8932eab5",
   "metadata": {},
   "outputs": [],
   "source": [
    "ваши выводы здесь"
   ]
  },
  {
   "cell_type": "markdown",
   "id": "5e46c9a6-a943-48b4-ad72-935337469613",
   "metadata": {
    "tags": []
   },
   "source": [
    "## **Задание 7.14.**\n",
    "\n",
    "Постройте 95%-ый доверительный интервал для среднего чека в каждой группе. Так как выборка средних чеков небольшая, используйте  $t_{крит}$ в своих расчетах.\n",
    "\n",
    "Укажите нижнюю границу доверительного интервала для истинного среднего чека каждой из групп. Ответ приведите в процентах и округлите до целого."
   ]
  },
  {
   "cell_type": "code",
   "execution_count": null,
   "id": "480430db-ffae-4aad-8e22-f5c70d4800b8",
   "metadata": {},
   "outputs": [],
   "source": [
    "# ваш код здесь"
   ]
  },
  {
   "cell_type": "markdown",
   "id": "74a78db8-48f7-41d2-94cb-faefb30b8f76",
   "metadata": {},
   "source": [
    "Проинтерпретируйте построенные доверительные интервалы для ежедневных средних чеков в группах. Есть ли между ними пересечения?"
   ]
  },
  {
   "cell_type": "code",
   "execution_count": null,
   "id": "1ab3aad1-f4fd-485f-85ef-274a27fe7563",
   "metadata": {},
   "outputs": [],
   "source": [
    "ваши выводы здесь"
   ]
  },
  {
   "cell_type": "markdown",
   "id": "c078852f-892f-42ed-8d78-73edf8eb1f5e",
   "metadata": {
    "tags": []
   },
   "source": [
    "## **Сделайте общий вывод по результатам A/B-теста**\n",
    "\n",
    "Какой варианта дизайна посадочной страницы является более эффективным в комплексе по метрикам конверсии и среднего чека и почему? "
   ]
  }
 ],
 "metadata": {
  "kernelspec": {
   "display_name": "Python 3 (ipykernel)",
   "language": "python",
   "name": "python3"
  },
  "language_info": {
   "codemirror_mode": {
    "name": "ipython",
    "version": 3
   },
   "file_extension": ".py",
   "mimetype": "text/x-python",
   "name": "python",
   "nbconvert_exporter": "python",
   "pygments_lexer": "ipython3",
   "version": "3.9.13"
  }
 },
 "nbformat": 4,
 "nbformat_minor": 5
}
