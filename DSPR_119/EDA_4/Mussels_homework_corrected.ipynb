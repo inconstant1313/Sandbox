{
 "cells": [
  {
   "attachments": {},
   "cell_type": "markdown",
   "metadata": {},
   "source": [
    "Анастасия, Добрый день! Проделали большую работу по анализу двух выборок. Статистический анализ данных, это важный этап в анализе данных. И очень важно разобраться с применением тестов в той или иной ситуации. Плюсы работы: - Выполнена проверка на нормальность - Хорошо оформлен код - Сделаны хорошие выводы по анализу - Заменили пропуск медианным значением - Работу представили через GitHub Комментарии к работе: 1. Тест на нормальность стоило выполнять для каждой выборки отдельно. Из-за этого получили неверные результаты теста и соответственно весь анализ неверен. Так как использовались тесты для нормального распределения обеих выборок, хотя одна из выборок распределена не нормально. Оценка не была снижена, так как в этом примере даже при применении параметрических тестов получился верный результат по гипотезам. 2. Так как одна из выборок распределена не нормально, то стоило выбрать коэффициент корреляции Спирмена. И построить тепловую карту корреляции признаков. 3. Для сравнения выборок необходимо использовать Непараметрические тесты. Выбираем тест U- критерий Манна-Уитни, так как в наших выборках малое количество наблюдений. Полезные материалы по теме: https://nafi.ru/upload/spss/Lection_6.pdf https://machinelearningmastery.ru/statistical-hypothesis-tests-in-python-cheat-sheet/ https://machinelearningmastery.ru/nonparametric-statistical-significance-tests-in-python/ https://habr.com/ru/articles/444124/ https://www.codecamp.ru/blog/mann-whitney-u-test-python/ https://www.notion.so/EDA-47f6a8964de4434c9fcfa9170bccd03e Отзыв приготовила ментор Белоглазова Ольга. Если возникнут вопросы, можете обратиться в канал # м_03_eda_4 в Пачке, постараемся на всё ответить и разобраться с моментами, которые вызывают трудности. Удачи в обучении!"
   ]
  },
  {
   "attachments": {},
   "cell_type": "markdown",
   "metadata": {},
   "source": [
    "# Домашнее задание блока EDA-4. Статистические тесты\n",
    "\n",
    "Используя информацию по мидиям Петербурга и Магадана, которые представлены в виде двух массивов petersburg и magadan в разделе ANOVA тест, проверьте данные на нормальность и на наличие корреляции. Для этого объедините 2 массива в DataFrame. Обоснуйте выбор теста на корреляцию. Сделайте вывод по гипотезе.\n",
    "\n",
    " \n",
    "Также ответьте на вопрос:\n",
    "Какова разница в среднем размере мидии в зависимости от города-производителя. Обоснуйте выбор теста. Сделайте вывод по гипотезе."
   ]
  },
  {
   "cell_type": "code",
   "execution_count": 10,
   "metadata": {},
   "outputs": [],
   "source": [
    "import pandas as pd\n",
    "\n",
    "from scipy.stats import shapiro\n",
    "from scipy.stats import mannwhitneyu\n",
    "\n",
    "import seaborn as sns"
   ]
  },
  {
   "cell_type": "code",
   "execution_count": 3,
   "metadata": {},
   "outputs": [
    {
     "data": {
      "text/html": [
       "<div>\n",
       "<style scoped>\n",
       "    .dataframe tbody tr th:only-of-type {\n",
       "        vertical-align: middle;\n",
       "    }\n",
       "\n",
       "    .dataframe tbody tr th {\n",
       "        vertical-align: top;\n",
       "    }\n",
       "\n",
       "    .dataframe thead th {\n",
       "        text-align: right;\n",
       "    }\n",
       "</style>\n",
       "<table border=\"1\" class=\"dataframe\">\n",
       "  <thead>\n",
       "    <tr style=\"text-align: right;\">\n",
       "      <th></th>\n",
       "      <th>petersburg</th>\n",
       "      <th>magadan</th>\n",
       "    </tr>\n",
       "  </thead>\n",
       "  <tbody>\n",
       "    <tr>\n",
       "      <th>0</th>\n",
       "      <td>0.0974</td>\n",
       "      <td>0.1033</td>\n",
       "    </tr>\n",
       "    <tr>\n",
       "      <th>1</th>\n",
       "      <td>0.1352</td>\n",
       "      <td>0.0915</td>\n",
       "    </tr>\n",
       "    <tr>\n",
       "      <th>2</th>\n",
       "      <td>0.0817</td>\n",
       "      <td>0.0781</td>\n",
       "    </tr>\n",
       "    <tr>\n",
       "      <th>3</th>\n",
       "      <td>0.1016</td>\n",
       "      <td>0.0685</td>\n",
       "    </tr>\n",
       "    <tr>\n",
       "      <th>4</th>\n",
       "      <td>0.0968</td>\n",
       "      <td>0.0677</td>\n",
       "    </tr>\n",
       "    <tr>\n",
       "      <th>5</th>\n",
       "      <td>0.1064</td>\n",
       "      <td>0.0697</td>\n",
       "    </tr>\n",
       "    <tr>\n",
       "      <th>6</th>\n",
       "      <td>0.1050</td>\n",
       "      <td>0.0764</td>\n",
       "    </tr>\n",
       "    <tr>\n",
       "      <th>7</th>\n",
       "      <td>0.1016</td>\n",
       "      <td>0.0689</td>\n",
       "    </tr>\n",
       "  </tbody>\n",
       "</table>\n",
       "</div>"
      ],
      "text/plain": [
       "   petersburg  magadan\n",
       "0      0.0974   0.1033\n",
       "1      0.1352   0.0915\n",
       "2      0.0817   0.0781\n",
       "3      0.1016   0.0685\n",
       "4      0.0968   0.0677\n",
       "5      0.1064   0.0697\n",
       "6      0.1050   0.0764\n",
       "7      0.1016   0.0689"
      ]
     },
     "metadata": {},
     "output_type": "display_data"
    }
   ],
   "source": [
    "petersburg = [0.0974, 0.1352, 0.0817, 0.1016, 0.0968, 0.1064, 0.105, None]\n",
    "magadan = [0.1033, 0.0915, 0.0781, 0.0685, 0.0677, 0.0697, 0.0764,\n",
    "           0.0689]\n",
    "\n",
    "df_data = {'petersburg':(petersburg),'magadan':(magadan)}\n",
    "mussels_df = pd.DataFrame(df_data)\n",
    "\n",
    "mussels_df = mussels_df.fillna(mussels_df['petersburg'].median()) #заполним недостающее значение медианным значением по выборке\n",
    "\n",
    "display(mussels_df)"
   ]
  },
  {
   "attachments": {},
   "cell_type": "markdown",
   "metadata": {},
   "source": [
    "## Проверяем данные на нормальность\n",
    "\n",
    "***Выдвенем гипотезы для признака 'petersburg':***\n",
    "\n",
    "$H_{0}$: в нашем датафрейме размеры мидий в Санкт-Петербурге распределены нормально\n",
    "\n",
    "$H_{a}$: в нашем датафрейме размеры мидий в Санкт-Петербурге не распределены нормально (не подтвердили $H_{0}$)\n",
    "\n",
    "Проверим нулевую гипотезу с помощью теста Шапиро-Уилка."
   ]
  },
  {
   "cell_type": "code",
   "execution_count": 5,
   "metadata": {},
   "outputs": [
    {
     "name": "stdout",
     "output_type": "stream",
     "text": [
      "p-value = 0.106\n",
      "0.106 > 0.05: нулевая гипотеза подтвердилась, распределение данных похоже на нормальное\n"
     ]
    }
   ],
   "source": [
    "alpha = 0.05\n",
    "\n",
    "p = round(shapiro(mussels_df['petersburg'])[1], 3)\n",
    "print(f'p-value = {p}')\n",
    "\n",
    "if p > alpha:\n",
    "    print(f'{p} > {alpha}: нулевая гипотеза подтвердилась, распределение данных похоже на нормальное')\n",
    "else:\n",
    "    print(f'{p} <= {alpha}: данные не распределены нормально, отбрасываем нулевую гипотезу')"
   ]
  },
  {
   "attachments": {},
   "cell_type": "markdown",
   "metadata": {},
   "source": [
    "***Выдвенем гипотезы для признака 'magadan':***\n",
    "\n",
    "$H_{0}$: в нашем датафрейме размеры мидий в Магадане распределены нормально\n",
    "\n",
    "$H_{a}$: в нашем датафрейме размеры мидий в Магадане не распределены нормально (не подтвердили $H_{0}$)\n",
    "\n",
    "Проверим нулевую гипотезу с помощью теста Шапиро-Уилка."
   ]
  },
  {
   "cell_type": "code",
   "execution_count": 6,
   "metadata": {},
   "outputs": [
    {
     "name": "stdout",
     "output_type": "stream",
     "text": [
      "p-value = 0.036\n",
      "0.036 <= 0.05: данные не распределены нормально, отбрасываем нулевую гипотезу\n"
     ]
    }
   ],
   "source": [
    "alpha = 0.05\n",
    "\n",
    "p = round(shapiro(mussels_df['magadan'])[1], 3)\n",
    "print(f'p-value = {p}')\n",
    "\n",
    "if p > alpha:\n",
    "    print(f'{p} > {alpha}: нулевая гипотеза подтвердилась, распределение данных похоже на нормальное')\n",
    "else:\n",
    "    print(f'{p} <= {alpha}: данные не распределены нормально, отбрасываем нулевую гипотезу')"
   ]
  },
  {
   "attachments": {},
   "cell_type": "markdown",
   "metadata": {},
   "source": [
    "## Проверяем данные на наличие корреляции\n",
    "\n",
    "Поскольку данные для Магадана распределены не нормально и содержат количестенные значения, будем проверять коэффициент корреляции Спирмена."
   ]
  },
  {
   "cell_type": "code",
   "execution_count": 7,
   "metadata": {},
   "outputs": [
    {
     "data": {
      "text/html": [
       "<div>\n",
       "<style scoped>\n",
       "    .dataframe tbody tr th:only-of-type {\n",
       "        vertical-align: middle;\n",
       "    }\n",
       "\n",
       "    .dataframe tbody tr th {\n",
       "        vertical-align: top;\n",
       "    }\n",
       "\n",
       "    .dataframe thead th {\n",
       "        text-align: right;\n",
       "    }\n",
       "</style>\n",
       "<table border=\"1\" class=\"dataframe\">\n",
       "  <thead>\n",
       "    <tr style=\"text-align: right;\">\n",
       "      <th></th>\n",
       "      <th>petersburg</th>\n",
       "      <th>magadan</th>\n",
       "    </tr>\n",
       "  </thead>\n",
       "  <tbody>\n",
       "    <tr>\n",
       "      <th>petersburg</th>\n",
       "      <td>1.000000</td>\n",
       "      <td>0.155691</td>\n",
       "    </tr>\n",
       "    <tr>\n",
       "      <th>magadan</th>\n",
       "      <td>0.155691</td>\n",
       "      <td>1.000000</td>\n",
       "    </tr>\n",
       "  </tbody>\n",
       "</table>\n",
       "</div>"
      ],
      "text/plain": [
       "            petersburg   magadan\n",
       "petersburg    1.000000  0.155691\n",
       "magadan       0.155691  1.000000"
      ]
     },
     "execution_count": 7,
     "metadata": {},
     "output_type": "execute_result"
    }
   ],
   "source": [
    "mussels_df.corr(method='spearman')"
   ]
  },
  {
   "cell_type": "code",
   "execution_count": 9,
   "metadata": {},
   "outputs": [
    {
     "data": {
      "text/plain": [
       "<Axes: >"
      ]
     },
     "execution_count": 9,
     "metadata": {},
     "output_type": "execute_result"
    },
    {
     "data": {
      "image/png": "[encoded data removed]",
      "text/plain": [
       "<Figure size 640x480 with 2 Axes>"
      ]
     },
     "metadata": {},
     "output_type": "display_data"
    }
   ],
   "source": [
    "sns.heatmap(mussels_df.corr(method='spearman'), annot=True)"
   ]
  },
  {
   "attachments": {},
   "cell_type": "markdown",
   "metadata": {},
   "source": [
    "## Вывод\n",
    "\n",
    "Получили, что размеры мидий в наших совокупностях (мидии из Санкт-Петербурга и мидии из Магадана) распределены нормально только для одного признака и между совокупностями есть статистически значимые отличия (нет корреляции). Чтобы оценить отличие двух совокупностей используем критерий Уилкоксона.\n",
    "\n",
    "## Сравним выборки\n",
    "\n",
    "Для сравнения используем U-критерий Манна-Уитни, так как выборка для Магадана имеет не нормальное распределение, выборки независимы и сравниваем всего 2 выборки.\n",
    "\n",
    "***Выдвенем гипотезы:***\n",
    "\n",
    "$H_{0}$: распределения выборок равны\n",
    "\n",
    "$H_{1}$: распределения выборок не равны"
   ]
  },
  {
   "cell_type": "code",
   "execution_count": 13,
   "metadata": {},
   "outputs": [
    {
     "name": "stdout",
     "output_type": "stream",
     "text": [
      "0.01 <= 0.05: распределения выборок не равны (можем отклонить нулевую гипотезу)\n"
     ]
    }
   ],
   "source": [
    "alpha = 0.05\n",
    "p = mannwhitneyu(mussels_df['petersburg'],mussels_df['magadan'])[1]\n",
    "\n",
    "if p > alpha:\n",
    "    print(f'{round(p,2)} > {alpha}: распределения выборок равны')\n",
    "else:\n",
    "    print(f'{round(p,2)} <= {alpha}: распределения выборок не равны (можем отклонить нулевую гипотезу)')"
   ]
  },
  {
   "attachments": {},
   "cell_type": "markdown",
   "metadata": {},
   "source": [
    "Так как U-критерий Манна-Уитни подтвердил наличие разницы двух выборок размеров мидий, сосчитаем разницу в средних размерах раковин мидий из городов Санкт-Петербург и Магадан, а также медианную разницу между этими выборками."
   ]
  },
  {
   "cell_type": "code",
   "execution_count": 14,
   "metadata": {},
   "outputs": [
    {
     "name": "stdout",
     "output_type": "stream",
     "text": [
      "Разница в средних значениях размеров раковин мидий из Санкт-Петербурга и Магадана: 0.025\n",
      "Разница в медианных размерах раковин мидий из Санкт-Петербурга и Магадана: 0.029\n"
     ]
    }
   ],
   "source": [
    "mean_diff = mussels_df['petersburg'].mean() - mussels_df['magadan'].mean()\n",
    "print('Разница в средних значениях размеров раковин мидий из Санкт-Петербурга и Магадана:', round(mean_diff, 3))\n",
    "\n",
    "median_diff = mussels_df['petersburg'].median() - mussels_df['magadan'].median()\n",
    "print('Разница в медианных размерах раковин мидий из Санкт-Петербурга и Магадана:', round(median_diff, 3))"
   ]
  },
  {
   "attachments": {},
   "cell_type": "markdown",
   "metadata": {},
   "source": [
    "## Вывод\n",
    "\n",
    "Исходя из проведенных исследований определили, что размеры мидий для Санкт-петербурга распределены нормально, а для Магадана - нет, при этом есть разница в размерах мидий в зависимости от города их отлова. Благодаря U-критерию Манна-Уитни определелили, что распределения выборок не равны. После подсчета разницы в средних и медианных размерах раковин мидий из двух городов, выяснили, что в Санкт-Петербурге раковины мидий больше примерно на 0.029. Размер мидий зависит от солености воды, но соленость Балтийского моря меньше, чем у Охотского моря, значит мидии из Магадана должны быть больше, а мы получили обратные данные. Это может говорить о излишнем опреснении моря или о излишней интенсивности вылова мидий."
   ]
  }
 ],
 "metadata": {
  "kernelspec": {
   "display_name": "Python 3",
   "language": "python",
   "name": "python3"
  },
  "language_info": {
   "codemirror_mode": {
    "name": "ipython",
    "version": 3
   },
   "file_extension": ".py",
   "mimetype": "text/x-python",
   "name": "python",
   "nbconvert_exporter": "python",
   "pygments_lexer": "ipython3",
   "version": "3.9.13"
  },
  "orig_nbformat": 4
 },
 "nbformat": 4,
 "nbformat_minor": 2
}
