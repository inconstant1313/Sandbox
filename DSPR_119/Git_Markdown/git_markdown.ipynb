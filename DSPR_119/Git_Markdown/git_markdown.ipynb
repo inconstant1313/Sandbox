{
 "cells": [
  {
   "attachments": {},
   "cell_type": "markdown",
   "metadata": {},
   "source": [
    "# Язык разметки Markdown\n",
    "\n",
    "Язык разметки — это специальный компьютерный язык для описания оформления и строения документа.\n",
    "\n",
    "Представим на некоторое время, что языков разметки не существует, а перед нами как перед разработчиками стоит простая задача: в предложении\n",
    "\n",
    "Markdown — простой язык разметки.\n",
    "требуется сделать слово «Markdown» полужирным (Markdown).\n",
    "\n",
    "Если мы введём какую-то управляющую конструкцию, которая в режиме чтения не будет отображаться явно, но будет преобразована в оформление, мы сможем достичь примерно такого результата:\n",
    "\n",
    "(начало полужирного текста) Markdown (окончание полужирного текста) — простой язык разметки.\n",
    "\n",
    "Однако если мы будем использовать эту конструкцию часто, то писать столько символов будет просто неудобно. Поэтому слово «начало» мы опустим, слово «окончание» заменим на один символ, например /, а «полужирного текста» заменим на одно слово strong.\n",
    "\n",
    "`(strong) Markdown (/strong) — простой язык разметки.`\n",
    "\n",
    "Сейчас проблема в том, что часто приходится писать круглые скобки не только для оформления текста, но и как часть предложения. Поэтому давайте заменим круглые скобки на что-то более редкое, например, на знаки < и >.\n",
    "\n",
    "`<strong> Markdown </strong> — простой язык разметки.`\n",
    "\n",
    "Мы описали простую конструкцию, которая может явно указать транслятору на то, что ограниченный текст является полужирным. Если у тех, кто читает этот текст в режиме просмотра, есть транслятор, который преобразует указанную разметку в оформление, то наша задача решена.\n",
    "\n",
    "Такие управляющие конструкции, указывающие на определённое оформление текста, называются тегами.\n",
    "\n",
    "В нашем примере записан реальный пример тега для придания тексту полужирного начертания на языке разметки гипертекста HTML.\n",
    "\n"
   ]
  },
  {
   "attachments": {},
   "cell_type": "markdown",
   "metadata": {},
   "source": [
    "```\n",
    ":\\Users\\incon>git config --list\n",
    "diff.astextplain.textconv=astextplain\n",
    "filter.lfs.clean=git-lfs clean -- %f\n",
    "filter.lfs.smudge=git-lfs smudge -- %f\n",
    "filter.lfs.process=git-lfs filter-process\n",
    "filter.lfs.required=true\n",
    "http.sslbackend=openssl\n",
    "http.sslcainfo=C:/Program Files/Git/mingw64/ssl/certs/ca-bundle.crt\n",
    "core.autocrlf=true\n",
    "core.fscache=true\n",
    "core.symlinks=false\n",
    "pull.rebase=false\n",
    "credential.helper=manager-core\n",
    "credential.https://dev.azure.com.usehttppath=true\n",
    "init.defaultbranch=master\n",
    "core.editor=\"C:\\Users\\incon\\AppData\\Local\\Programs\\Microsoft VS Code\\bin\\code\" --wait\n",
    "user.name=inconstant1313\n",
    "user.email=inconstant1313@gmail.com\n",
    "```"
   ]
  },
  {
   "cell_type": "code",
   "execution_count": null,
   "metadata": {},
   "outputs": [],
   "source": []
  }
 ],
 "metadata": {
  "kernelspec": {
   "display_name": "Python 3",
   "language": "python",
   "name": "python3"
  },
  "language_info": {
   "name": "python",
   "version": "3.9.13 (tags/v3.9.13:6de2ca5, May 17 2022, 16:36:42) [MSC v.1929 64 bit (AMD64)]"
  },
  "orig_nbformat": 4,
  "vscode": {
   "interpreter": {
    "hash": "bec3d2e5e7188a19b2d41c420bc6b8df20852a4490e3269d6fe51551fefbfe04"
   }
  }
 },
 "nbformat": 4,
 "nbformat_minor": 2
}
