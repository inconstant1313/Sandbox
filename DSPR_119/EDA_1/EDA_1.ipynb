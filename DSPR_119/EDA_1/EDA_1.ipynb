{
 "cells": [
  {
   "attachments": {},
   "cell_type": "markdown",
   "metadata": {},
   "source": [
    "# Разведывательный анализ данных\n",
    "\n",
    "Определив бизнес-задачу, вы перешли к сбору данных для обучения модели. После нескольких недель парсинга сайта WineEnthusiast вам удалось собрать около 130 тысяч строк обзоров вин для анализа и обучения.\n",
    "\n",
    "Вот какие признаки вам удалось собрать:\n",
    "\n",
    "* country — страна-производитель вина.\n",
    "* description — подробное описание.\n",
    "* designation — название виноградника, где выращивают виноград для вина.\n",
    "* points — баллы, которыми WineEnthusiast оценил вино по шкале от 1 до 100.\n",
    "* price — стоимость бутылки вина.\n",
    "* province — провинция или штат.\n",
    "* region_1 — винодельческий район в провинции или штате (например Напа).\n",
    "* region_2 — конкретный регион. Иногда в пределах винодельческой зоны указываются более конкретные регионы (например Резерфорд в долине Напа), но это значение может быть пустым.\n",
    "* taster_name — имя сомелье.\n",
    "* taster_twitter_handle — твиттер сомелье.\n",
    "* title — название вина, которое часто содержит год и другую подробную информацию.\n",
    "* variety — сорт винограда, из которого изготовлено вино (например Пино Нуар).\n",
    "* winery — винодельня, которая производила вино."
   ]
  },
  {
   "cell_type": "code",
   "execution_count": 61,
   "metadata": {},
   "outputs": [
    {
     "name": "stdout",
     "output_type": "stream",
     "text": [
      "<class 'pandas.core.frame.DataFrame'>\n",
      "RangeIndex: 129971 entries, 0 to 129970\n",
      "Data columns (total 13 columns):\n",
      " #   Column                 Non-Null Count   Dtype  \n",
      "---  ------                 --------------   -----  \n",
      " 0   country                129908 non-null  object \n",
      " 1   description            129971 non-null  object \n",
      " 2   designation            92506 non-null   object \n",
      " 3   points                 129971 non-null  int64  \n",
      " 4   price                  120975 non-null  float64\n",
      " 5   province               129908 non-null  object \n",
      " 6   region_1               108724 non-null  object \n",
      " 7   region_2               50511 non-null   object \n",
      " 8   taster_name            103727 non-null  object \n",
      " 9   taster_twitter_handle  98758 non-null   object \n",
      " 10  title                  129971 non-null  object \n",
      " 11  variety                129970 non-null  object \n",
      " 12  winery                 129971 non-null  object \n",
      "dtypes: float64(1), int64(1), object(11)\n",
      "memory usage: 12.9+ MB\n"
     ]
    },
    {
     "data": {
      "text/plain": [
       "None"
      ]
     },
     "metadata": {},
     "output_type": "display_data"
    }
   ],
   "source": [
    "import pandas as pd\n",
    "\n",
    "data = pd.read_csv('data/wine.csv')\n",
    "wine_data = data.copy()\n",
    "\n",
    "display(wine_data.info())"
   ]
  },
  {
   "attachments": {},
   "cell_type": "markdown",
   "metadata": {},
   "source": [
    "Задание 4.1\n",
    "Сколько всего дегустаторов приняло участие в винных обзорах?"
   ]
  },
  {
   "cell_type": "code",
   "execution_count": 62,
   "metadata": {},
   "outputs": [
    {
     "data": {
      "text/plain": [
       "19"
      ]
     },
     "metadata": {},
     "output_type": "display_data"
    }
   ],
   "source": [
    "display(wine_data['taster_name'].value_counts().count())"
   ]
  },
  {
   "attachments": {},
   "cell_type": "markdown",
   "metadata": {},
   "source": [
    "Задание 4.2\n",
    "Какова максимальная цена за бутылку в этом наборе данных? Введите целое число."
   ]
  },
  {
   "cell_type": "code",
   "execution_count": 63,
   "metadata": {},
   "outputs": [
    {
     "data": {
      "text/plain": [
       "3300.0"
      ]
     },
     "metadata": {},
     "output_type": "display_data"
    }
   ],
   "source": [
    "display(wine_data['price'].nlargest(1).values[0])"
   ]
  },
  {
   "attachments": {},
   "cell_type": "markdown",
   "metadata": {},
   "source": [
    "Задание 5.3\n",
    "\n",
    "Проанализируйте датасет на наличие дублирующихся винных обзоров. Если дублирующиеся записи есть, удалите их.\n",
    "В поле ниже введите, сколько дублирующихся записей вам удалось обнаружить."
   ]
  },
  {
   "cell_type": "code",
   "execution_count": 64,
   "metadata": {},
   "outputs": [
    {
     "name": "stdout",
     "output_type": "stream",
     "text": [
      "Число найденных дубликатов: 9983\n",
      "Результирующее число записей: 119988\n"
     ]
    }
   ],
   "source": [
    "dupl_columns = list(wine_data.columns)\n",
    "\n",
    "#ищем дубликаты\n",
    "mask = wine_data.duplicated(subset=dupl_columns)\n",
    "data_duplicates = wine_data[mask]\n",
    "print(f'Число найденных дубликатов: {data_duplicates.shape[0]}')\n",
    "\n",
    "\n",
    "#удаляем дубликаты\n",
    "data_dedupped = wine_data.drop_duplicates(subset=dupl_columns)\n",
    "print(f'Результирующее число записей: {data_dedupped.shape[0]}')"
   ]
  },
  {
   "cell_type": "code",
   "execution_count": 65,
   "metadata": {},
   "outputs": [
    {
     "name": "stdout",
     "output_type": "stream",
     "text": [
      "<class 'pandas.core.frame.DataFrame'>\n",
      "RangeIndex: 129971 entries, 0 to 129970\n",
      "Data columns (total 13 columns):\n",
      " #   Column                 Non-Null Count   Dtype  \n",
      "---  ------                 --------------   -----  \n",
      " 0   country                129908 non-null  object \n",
      " 1   description            129971 non-null  object \n",
      " 2   designation            92506 non-null   object \n",
      " 3   points                 129971 non-null  int64  \n",
      " 4   price                  120975 non-null  float64\n",
      " 5   province               129908 non-null  object \n",
      " 6   region_1               108724 non-null  object \n",
      " 7   region_2               50511 non-null   object \n",
      " 8   taster_name            103727 non-null  object \n",
      " 9   taster_twitter_handle  98758 non-null   object \n",
      " 10  title                  129971 non-null  object \n",
      " 11  variety                129970 non-null  object \n",
      " 12  winery                 129971 non-null  object \n",
      "dtypes: float64(1), int64(1), object(11)\n",
      "memory usage: 12.9+ MB\n"
     ]
    },
    {
     "data": {
      "text/plain": [
       "None"
      ]
     },
     "metadata": {},
     "output_type": "display_data"
    }
   ],
   "source": [
    "display(data.info())"
   ]
  },
  {
   "attachments": {},
   "cell_type": "markdown",
   "metadata": {},
   "source": [
    "# Очистка данных\n",
    "\n",
    "Процент пропущенных данных в столбцах датасета"
   ]
  },
  {
   "cell_type": "code",
   "execution_count": 66,
   "metadata": {},
   "outputs": [
    {
     "data": {
      "text/plain": [
       "region_2                 61.136715\n",
       "designation              28.825661\n",
       "taster_twitter_handle    24.015357\n",
       "taster_name              20.192197\n",
       "region_1                 16.347493\n",
       "price                     6.921544\n",
       "country                   0.048472\n",
       "province                  0.048472\n",
       "variety                   0.000769\n",
       "dtype: float64"
      ]
     },
     "metadata": {},
     "output_type": "display_data"
    }
   ],
   "source": [
    "cols_null_percent = wine_data.isnull().mean() * 100\n",
    "cols_with_null = cols_null_percent[cols_null_percent>0].sort_values(ascending=False)\n",
    "display(cols_with_null)"
   ]
  },
  {
   "attachments": {},
   "cell_type": "markdown",
   "metadata": {},
   "source": [
    "Заполнение недостающих данных"
   ]
  },
  {
   "cell_type": "code",
   "execution_count": 67,
   "metadata": {},
   "outputs": [],
   "source": [
    "wine_data['taster_name'] = wine_data['taster_name'].fillna('unknown')\n",
    "wine_data['taster_twitter_handle'] = wine_data['taster_twitter_handle'].fillna('unknown')\n",
    "wine_data['designation'] = wine_data['designation'].fillna('unknown')\n",
    "wine_data['region_1'] = wine_data['region_1'].fillna('unknown')\n"
   ]
  },
  {
   "attachments": {},
   "cell_type": "markdown",
   "metadata": {},
   "source": [
    "Удаление записей с большим количеством пропусков"
   ]
  },
  {
   "cell_type": "code",
   "execution_count": 68,
   "metadata": {},
   "outputs": [
    {
     "data": {
      "text/plain": [
       "country                  0.0\n",
       "description              0.0\n",
       "designation              0.0\n",
       "points                   0.0\n",
       "price                    0.0\n",
       "province                 0.0\n",
       "region_1                 0.0\n",
       "taster_name              0.0\n",
       "taster_twitter_handle    0.0\n",
       "title                    0.0\n",
       "variety                  0.0\n",
       "winery                   0.0\n",
       "dtype: float64"
      ]
     },
     "execution_count": 68,
     "metadata": {},
     "output_type": "execute_result"
    }
   ],
   "source": [
    "#создаем копию исходной таблицы\n",
    "drop_data = wine_data.copy()\n",
    "#задаем минимальный порог: вычисляем 70% от числа строк\n",
    "thresh = drop_data.shape[0]*0.7\n",
    "#удаляем столбцы, в которых более 30% (100-70) пропусков\n",
    "drop_data = drop_data.dropna(thresh=thresh, axis=1)\n",
    "#удаляем записи, в которых есть хотя бы 1 пропуск\n",
    "drop_data = drop_data.dropna(how='any', axis=0)\n",
    "#отображаем результирующую долю пропусков\n",
    "drop_data.isnull().mean()"
   ]
  },
  {
   "cell_type": "code",
   "execution_count": 69,
   "metadata": {},
   "outputs": [
    {
     "name": "stdout",
     "output_type": "stream",
     "text": [
      "(120915, 12)\n"
     ]
    }
   ],
   "source": [
    "print(drop_data.shape)"
   ]
  },
  {
   "cell_type": "code",
   "execution_count": 70,
   "metadata": {},
   "outputs": [],
   "source": [
    "wine_data.to_csv('data/wine_cleaned.csv')"
   ]
  }
 ],
 "metadata": {
  "kernelspec": {
   "display_name": "Python 3",
   "language": "python",
   "name": "python3"
  },
  "language_info": {
   "codemirror_mode": {
    "name": "ipython",
    "version": 3
   },
   "file_extension": ".py",
   "mimetype": "text/x-python",
   "name": "python",
   "nbconvert_exporter": "python",
   "pygments_lexer": "ipython3",
   "version": "3.9.13"
  },
  "orig_nbformat": 4,
  "vscode": {
   "interpreter": {
    "hash": "bec3d2e5e7188a19b2d41c420bc6b8df20852a4490e3269d6fe51551fefbfe04"
   }
  }
 },
 "nbformat": 4,
 "nbformat_minor": 2
}
