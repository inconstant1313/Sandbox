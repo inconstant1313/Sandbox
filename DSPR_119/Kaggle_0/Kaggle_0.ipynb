{
 "cells": [
  {
   "attachments": {},
   "cell_type": "markdown",
   "metadata": {},
   "source": [
    "Импортируем библиотеки"
   ]
  },
  {
   "cell_type": "code",
   "execution_count": null,
   "metadata": {},
   "outputs": [],
   "source": [
    "# Standard python libraries\n",
    "import os\n",
    "import time\n",
    "\n",
    "# Essential DS libraries\n",
    "import numpy as np\n",
    "import pandas as pd\n",
    "from sklearn.metrics import mean_absolute_error\n",
    "from sklearn.model_selection import train_test_split\n",
    "import torch\n",
    "\n",
    "# LightAutoML presets, task and report generation\n",
    "from lightautoml.automl.presets.tabular_presets import TabularAutoML\n",
    "from lightautoml.tasks import Task"
   ]
  },
  {
   "attachments": {},
   "cell_type": "markdown",
   "metadata": {},
   "source": [
    "    mask = train_data['vehicle_color'].isnull() == True\n",
    "    models_list = list(train_data[mask]['vehicle_model'].value_counts().index)\n",
    "    elem = 0\n",
    "    dict_doors = {}\n",
    "    for elem in range(0,len(models_list)):\n",
    "        mask = (train_data['vehicle_model'] == models_list[elem])\n",
    "        model = models_list[elem]\n",
    "        if train_data[mask]['vehicle_color'].isnull().value_counts().count() > 1:\n",
    "            door_cnt = train_data[mask]['vehicle_color'].value_counts().nlargest(1).index[0]\n",
    "            dict_doors.setdefault(model,door_cnt)\n",
    "            elem +=1\n",
    "        else:\n",
    "            door_cnt = train_data['vehicle_color'].mode()\n",
    "            dict_doors.setdefault(model,door_cnt)\n",
    "            elem +=1\n",
    "    for elem in range(0,len(models_list)):\n",
    "        mask = (train_data['vehicle_model'] == models_list[elem])\n",
    "        train_data['vehicle_color'] = train_data['vehicle_color'].fillna(dict_doors[models_list[elem]])\n",
    "        elem +=1\n",
    "    train_data.info()"
   ]
  }
 ],
 "metadata": {
  "language_info": {
   "name": "python"
  },
  "orig_nbformat": 4
 },
 "nbformat": 4,
 "nbformat_minor": 2
}
