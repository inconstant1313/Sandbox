{
  "cells": [
    {
      "cell_type": "markdown",
      "id": "42289889-bd57-434e-9637-d3e354756316",
      "metadata": {
        "id": "42289889-bd57-434e-9637-d3e354756316"
      },
      "source": [
        "<center> <img src = https://raw.githubusercontent.com/AndreyRysistov/DatasetsForPandas/main/hh%20label.jpg alt=\"drawing\" style=\"width:400px;\">"
      ]
    },
    {
      "cell_type": "markdown",
      "id": "829cb75b-f14e-4ba8-9195-7ba929a7d656",
      "metadata": {
        "id": "829cb75b-f14e-4ba8-9195-7ba929a7d656",
        "tags": []
      },
      "source": [
        "# <center> Проект: Анализ вакансий из HeadHunter\n",
        "   "
      ]
    },
    {
      "cell_type": "code",
      "execution_count": 287,
      "id": "dccfde33-2452-43fb-a8a5-5c6ebc02a71d",
      "metadata": {
        "id": "dccfde33-2452-43fb-a8a5-5c6ebc02a71d"
      },
      "outputs": [],
      "source": [
        "# Для создания запросов, подключения к БД, выполнения запросов, операций с результатами\n",
        "import pandas as pd\n",
        "import psycopg2\n",
        "import sqlalchemy\n",
        "from sqlalchemy import create_engine\n",
        "from sqlalchemy import text\n",
        "\n",
        "# Для визуализации\n",
        "import matplotlib.pyplot as plt\n",
        "import seaborn as sns\n",
        "from matplotlib import ticker\n",
        "\n",
        "\n",
        "# Для работы с файлом настроек для подключения БД\n",
        "import configparser\n",
        "\n",
        "# Для парсинга городов-миллионников со страницы в Википедии\n",
        "import requests\n",
        "from bs4 import BeautifulSoup"
      ]
    },
    {
      "cell_type": "code",
      "execution_count": 288,
      "id": "oVKH4ehvf8Ay",
      "metadata": {
        "id": "oVKH4ehvf8Ay"
      },
      "outputs": [],
      "source": [
        "# Создаем объект для хранения настроек подключения, и записываем в него настройки из локального файла settings.ini\n",
        "config_settings = configparser.ConfigParser()\n",
        "config_settings.read(\"settings.ini\")\n",
        "\n",
        "# Создаем переменные, для хранения настроек подключения и присваиваем им значения из локального файла-конфигуратора\n",
        "DBNAME = config_settings[\"POSTGRESQL\"][\"DBNAME\"]\n",
        "USER = config_settings[\"POSTGRESQL\"][\"USER\"]\n",
        "PASSWORD = config_settings[\"POSTGRESQL\"][\"PASSWORD\"]\n",
        "HOST = config_settings[\"POSTGRESQL\"][\"HOST\"]\n",
        "PORT = config_settings[\"POSTGRESQL\"][\"PORT\"]"
      ]
    },
    {
      "cell_type": "code",
      "execution_count": 289,
      "id": "7a25d7bb",
      "metadata": {},
      "outputs": [],
      "source": [
        "# Создаем подключение к базе данных\n",
        "url = f'postgresql+psycopg2://{USER}:{PASSWORD}@{HOST}:{PORT}/{DBNAME}'\n",
        "connection = create_engine(url).connect().execution_options(autocommit=True)"
      ]
    },
    {
      "cell_type": "markdown",
      "id": "0dc6476b-7a00-44f1-ac93-6e3baed33a29",
      "metadata": {
        "id": "0dc6476b-7a00-44f1-ac93-6e3baed33a29"
      },
      "source": [
        "# Юнит 3. Предварительный анализ данных"
      ]
    },
    {
      "cell_type": "markdown",
      "id": "889782b6-8d1c-410e-8920-e57f27917c64",
      "metadata": {
        "id": "889782b6-8d1c-410e-8920-e57f27917c64"
      },
      "source": [
        "1. Напишите запрос, который посчитает количество вакансий в нашей базе (вакансии находятся в таблице vacancies). "
      ]
    },
    {
      "cell_type": "code",
      "execution_count": 290,
      "id": "bc39e68e-ed02-4ee2-9235-7258a2f867a8",
      "metadata": {
        "id": "bc39e68e-ed02-4ee2-9235-7258a2f867a8"
      },
      "outputs": [],
      "source": [
        "# Код запроса, который подсчитывает общее количество вакансий в базе данных project_sql  в таблице vacancies\n",
        "query_3_1 = f'''SELECT \n",
        "                    COUNT (vacancies.id)\n",
        "                FROM \n",
        "                    public.vacancies\n",
        "'''"
      ]
    },
    {
      "cell_type": "code",
      "execution_count": 291,
      "id": "7mAwtsk4hEHY",
      "metadata": {
        "id": "7mAwtsk4hEHY"
      },
      "outputs": [
        {
          "name": "stdout",
          "output_type": "stream",
          "text": [
            "Количество вакансий в таблице vacancies равно 49197\n"
          ]
        }
      ],
      "source": [
        "# Получаем результат запроса и выводим искомое значение\n",
        "count_vacancies = (pd.read_sql_query(text(query_3_1),connection)).values[0][0]\n",
        "print('Количество вакансий в таблице vacancies равно', count_vacancies)"
      ]
    },
    {
      "cell_type": "markdown",
      "id": "b583485d-1f9e-494e-ada4-80ffff7c53d6",
      "metadata": {
        "id": "b583485d-1f9e-494e-ada4-80ffff7c53d6"
      },
      "source": [
        "2. Напишите запрос, который посчитает количество работодателей (таблица employers). "
      ]
    },
    {
      "cell_type": "code",
      "execution_count": 292,
      "id": "5408c52c-3407-4a63-b25b-1aafa2322d28",
      "metadata": {
        "id": "5408c52c-3407-4a63-b25b-1aafa2322d28"
      },
      "outputs": [],
      "source": [
        "# Код запроса, который подсчитывает общее количество работодателей в базе данных project_sql  в таблице employers\n",
        "query_3_2 = f'''SELECT \n",
        "                    COUNT (employers.id)\n",
        "                FROM \n",
        "                    public.employers                \n",
        "'''"
      ]
    },
    {
      "cell_type": "code",
      "execution_count": 293,
      "id": "jVL4eshKhdqc",
      "metadata": {
        "id": "jVL4eshKhdqc"
      },
      "outputs": [
        {
          "name": "stdout",
          "output_type": "stream",
          "text": [
            "Количество работодателей в таблице employers равно 23501\n"
          ]
        }
      ],
      "source": [
        "# Получаем результат запроса и выводим искомое значение\n",
        "count_employers = (pd.read_sql_query(text(query_3_2), connection)).values[0][0]\n",
        "print('Количество работодателей в таблице employers равно', count_employers)"
      ]
    },
    {
      "attachments": {},
      "cell_type": "markdown",
      "id": "a2bfff1f-c975-4bf6-84be-2185d79dcb76",
      "metadata": {
        "id": "a2bfff1f-c975-4bf6-84be-2185d79dcb76"
      },
      "source": [
        "3. Посчитайте с помощью запроса количество регионов (таблица areas)."
      ]
    },
    {
      "cell_type": "code",
      "execution_count": 294,
      "id": "1m8QJwBYhey6",
      "metadata": {
        "id": "1m8QJwBYhey6"
      },
      "outputs": [],
      "source": [
        "# Код запроса, который подсчитывает общее количество регионов в базе данных project_sql  в таблице areas\n",
        "query_3_3 = f'''SELECT \n",
        "                    COUNT (areas.id)\n",
        "                FROM \n",
        "                    public.areas                \n",
        "'''"
      ]
    },
    {
      "cell_type": "code",
      "execution_count": 295,
      "id": "EZsn9tlfhe7f",
      "metadata": {
        "id": "EZsn9tlfhe7f"
      },
      "outputs": [
        {
          "name": "stdout",
          "output_type": "stream",
          "text": [
            "Количество регионов в таблице areas равно 1362\n"
          ]
        }
      ],
      "source": [
        "# Получаем результат запроса и выводим искомое значение\n",
        "count_areas = (pd.read_sql_query(text(query_3_3), connection)).values[0][0]\n",
        "print('Количество регионов в таблице areas равно', count_areas)"
      ]
    },
    {
      "attachments": {},
      "cell_type": "markdown",
      "id": "41bb59f3-53cc-4a67-a5bc-bedf573955e4",
      "metadata": {
        "id": "41bb59f3-53cc-4a67-a5bc-bedf573955e4"
      },
      "source": [
        "4. Посчитайте с помощью запроса количество сфер деятельности в базе (таблица industries)."
      ]
    },
    {
      "cell_type": "code",
      "execution_count": 296,
      "id": "d286cf4c-707b-4cd2-9190-7ab3587d04a1",
      "metadata": {
        "id": "d286cf4c-707b-4cd2-9190-7ab3587d04a1"
      },
      "outputs": [],
      "source": [
        "# Код запроса, который подсчитывает общее количество сфер деятельности в базе данных project_sql  в таблице industries\n",
        "query_3_4 = f'''SELECT \n",
        "                    COUNT (industries.id)\n",
        "                FROM \n",
        "                    public.industries               \n",
        "'''"
      ]
    },
    {
      "cell_type": "code",
      "execution_count": 297,
      "id": "21e25f48",
      "metadata": {},
      "outputs": [
        {
          "name": "stdout",
          "output_type": "stream",
          "text": [
            "Количество сфер деятельности в таблице industries равно 294\n"
          ]
        }
      ],
      "source": [
        "# Получаем результат запроса и выводим искомое значение\n",
        "count_industries = (pd.read_sql_query(text(query_3_4), connection)).values[0][0]\n",
        "print('Количество сфер деятельности в таблице industries равно', count_industries)"
      ]
    },
    {
      "cell_type": "markdown",
      "id": "9a8a2181-6914-448b-85f1-38f5f18b8a93",
      "metadata": {
        "id": "9a8a2181-6914-448b-85f1-38f5f18b8a93"
      },
      "source": [
        "***"
      ]
    },
    {
      "attachments": {},
      "cell_type": "markdown",
      "id": "5fc4cc79",
      "metadata": {},
      "source": [
        "#### **Выводы по предварительному анализу данных**\n",
        "\n",
        "База состоит из 5 таблиц: ***vacancies***, ***areas***, ***employers***, ***industries*** и ***emplouers_industries***. \n",
        "\n",
        "В таблице ***vacancies*** 10 столбцов и 49197 строк, содержащих информацию о вакансиях. Эта таблица наиболее динамичная по записям, так как вакансии чаще теряют актуальность или появляются новые, а также она хранит основную часть информации, которая требуется для обучения модели. Но 5 столбцов в ней  содержат текст, с которым моделям сложнее работать. \n",
        "\n",
        "Три таблицы (***areas***, ***industries*** и ***employers***) - это таблицы-справочники, хранящие информацию о городах, сферах деятельности и работодателях соответственно. Таблицы ***employers*** и ***areas***  связаны с таблицей ***vacancies*** через специальные идентификаторы. Таблица  ***industries*** связана с таблицей ***employers***  также через специальные идентификаторы, причем так как связь этих таблиц \"много-ко-многим\" в базе данных есть дополнительная промежуточная таблица ***emplouers_industries***, которая содержит исключительно ключи-идентификаторы, для образования пар \"работодатель-сфера деятельности\". \n",
        "\n",
        "По предварительному анализу данных можно сделать вывод, что для создание модели машинного обучения, которая будет рекомендовать вакансии клиентам агентства, претендующим на позицию Data Scientist база данных ***project_sql*** подходит, так как содержит довольное большое количество вакансий, предполагает охват 1362 городов и 23501 работодателей. Также база данных содержит всю необходимую информацию: сферу деятельности, чтобы определить те, в которых требуется позиция Data Scientist, город размещения вакантной должности, ключевые навыки и границы заработной платы, а также требования к опыту, график и тип трудоустройства. В дальнейшем нужно отсеить необходимые вакансии для обучения модели и определить достаточно ли этих данных."
      ]
    },
    {
      "cell_type": "markdown",
      "id": "8d62a9f3-f64e-4fe7-bdac-c4dffa16155e",
      "metadata": {
        "id": "8d62a9f3-f64e-4fe7-bdac-c4dffa16155e"
      },
      "source": [
        "# Юнит 4. Детальный анализ вакансий"
      ]
    },
    {
      "cell_type": "markdown",
      "id": "93053d3d-b284-481a-9cf7-012d7014c0e0",
      "metadata": {
        "id": "93053d3d-b284-481a-9cf7-012d7014c0e0"
      },
      "source": [
        "1. Напишите запрос, который позволит узнать, сколько (cnt) вакансий в каждом регионе (area).\n",
        "Отсортируйте по количеству вакансий в порядке убывания."
      ]
    },
    {
      "cell_type": "code",
      "execution_count": 298,
      "id": "3f069da6-fdc9-4ae7-b514-fafe2675efd3",
      "metadata": {
        "id": "3f069da6-fdc9-4ae7-b514-fafe2675efd3"
      },
      "outputs": [],
      "source": [
        "# Код запроса, который возвращает таблицу с наименованием региона и количество вакансий в нем, в порядке убывания вакансий\n",
        "query_4_1 = f'''SELECT\n",
        "                    areas.name as area,\n",
        "                    COUNT(vacancies.id) as cnt\n",
        "                FROM \n",
        "                    public.vacancies as vacancies\n",
        "                    JOIN public.areas as areas ON areas.id = vacancies.area_id\n",
        "                GROUP BY areas.id\n",
        "                ORDER BY cnt DESC\n",
        "'''"
      ]
    },
    {
      "cell_type": "code",
      "execution_count": 299,
      "id": "P7QL86hrjhRJ",
      "metadata": {
        "id": "P7QL86hrjhRJ"
      },
      "outputs": [
        {
          "data": {
            "text/html": [
              "<div>\n",
              "<style scoped>\n",
              "    .dataframe tbody tr th:only-of-type {\n",
              "        vertical-align: middle;\n",
              "    }\n",
              "\n",
              "    .dataframe tbody tr th {\n",
              "        vertical-align: top;\n",
              "    }\n",
              "\n",
              "    .dataframe thead th {\n",
              "        text-align: right;\n",
              "    }\n",
              "</style>\n",
              "<table border=\"1\" class=\"dataframe\">\n",
              "  <thead>\n",
              "    <tr style=\"text-align: right;\">\n",
              "      <th></th>\n",
              "      <th>area</th>\n",
              "      <th>cnt</th>\n",
              "    </tr>\n",
              "  </thead>\n",
              "  <tbody>\n",
              "    <tr>\n",
              "      <th>0</th>\n",
              "      <td>Москва</td>\n",
              "      <td>5333</td>\n",
              "    </tr>\n",
              "    <tr>\n",
              "      <th>1</th>\n",
              "      <td>Санкт-Петербург</td>\n",
              "      <td>2851</td>\n",
              "    </tr>\n",
              "    <tr>\n",
              "      <th>2</th>\n",
              "      <td>Минск</td>\n",
              "      <td>2112</td>\n",
              "    </tr>\n",
              "    <tr>\n",
              "      <th>3</th>\n",
              "      <td>Новосибирск</td>\n",
              "      <td>2006</td>\n",
              "    </tr>\n",
              "    <tr>\n",
              "      <th>4</th>\n",
              "      <td>Алматы</td>\n",
              "      <td>1892</td>\n",
              "    </tr>\n",
              "    <tr>\n",
              "      <th>...</th>\n",
              "      <td>...</td>\n",
              "      <td>...</td>\n",
              "    </tr>\n",
              "    <tr>\n",
              "      <th>764</th>\n",
              "      <td>Кизляр</td>\n",
              "      <td>1</td>\n",
              "    </tr>\n",
              "    <tr>\n",
              "      <th>765</th>\n",
              "      <td>Джизак</td>\n",
              "      <td>1</td>\n",
              "    </tr>\n",
              "    <tr>\n",
              "      <th>766</th>\n",
              "      <td>Эртиль</td>\n",
              "      <td>1</td>\n",
              "    </tr>\n",
              "    <tr>\n",
              "      <th>767</th>\n",
              "      <td>Арсеньев</td>\n",
              "      <td>1</td>\n",
              "    </tr>\n",
              "    <tr>\n",
              "      <th>768</th>\n",
              "      <td>Тура (Красноярский край)</td>\n",
              "      <td>1</td>\n",
              "    </tr>\n",
              "  </tbody>\n",
              "</table>\n",
              "<p>769 rows × 2 columns</p>\n",
              "</div>"
            ],
            "text/plain": [
              "                         area   cnt\n",
              "0                      Москва  5333\n",
              "1             Санкт-Петербург  2851\n",
              "2                       Минск  2112\n",
              "3                 Новосибирск  2006\n",
              "4                      Алматы  1892\n",
              "..                        ...   ...\n",
              "764                    Кизляр     1\n",
              "765                    Джизак     1\n",
              "766                    Эртиль     1\n",
              "767                  Арсеньев     1\n",
              "768  Тура (Красноярский край)     1\n",
              "\n",
              "[769 rows x 2 columns]"
            ]
          },
          "metadata": {},
          "output_type": "display_data"
        }
      ],
      "source": [
        "# Получаем и выводим результат запроса\n",
        "vacancies_by_area = pd.read_sql_query(text(query_4_1), connection)\n",
        "display(vacancies_by_area)"
      ]
    },
    {
      "cell_type": "markdown",
      "id": "4266f0b6-1646-492a-88b4-2f6a46502135",
      "metadata": {
        "id": "4266f0b6-1646-492a-88b4-2f6a46502135"
      },
      "source": [
        "2. Напишите запрос, чтобы определить у какого количества вакансий заполнено хотя бы одно из двух полей с зарплатой."
      ]
    },
    {
      "cell_type": "code",
      "execution_count": 300,
      "id": "0c44b350-72eb-4d65-8b54-a1fc449ba9fd",
      "metadata": {
        "id": "0c44b350-72eb-4d65-8b54-a1fc449ba9fd"
      },
      "outputs": [],
      "source": [
        "# Код запроса, который посчитывает количество вакансий с хотя бы одним непустым полем зарплаты\n",
        "query_4_2 = f'''SELECT \n",
        "                    COUNT(vacancies.id)\n",
        "                FROM \n",
        "                    public.vacancies as vacancies\n",
        "                WHERE (vacancies.salary_from IS NOT NULL) OR (vacancies.salary_to IS NOT NULL)                 \n",
        "'''"
      ]
    },
    {
      "cell_type": "code",
      "execution_count": 301,
      "id": "rhvwaMDkoWTi",
      "metadata": {
        "id": "rhvwaMDkoWTi"
      },
      "outputs": [
        {
          "name": "stdout",
          "output_type": "stream",
          "text": [
            "Количество вакансий, где работодатель указал хотя бы одну границу оплаты труда: 24073\n"
          ]
        }
      ],
      "source": [
        "# Получаем и выводим результат запроса\n",
        "not_null_salary = (pd.read_sql_query(text(query_4_2), connection)).values[0][0]\n",
        "print('Количество вакансий, где работодатель указал хотя бы одну границу оплаты труда:', not_null_salary)"
      ]
    },
    {
      "cell_type": "markdown",
      "id": "635c4d5d-f323-4c66-b428-50a088120aa0",
      "metadata": {
        "id": "635c4d5d-f323-4c66-b428-50a088120aa0"
      },
      "source": [
        "3. Найдите средние значения для нижней и верхней границы зарплатной вилки. Округлите значения до целого."
      ]
    },
    {
      "cell_type": "code",
      "execution_count": 302,
      "id": "603cdbe4-0ec3-4106-8eaf-c73fcdd29165",
      "metadata": {
        "id": "603cdbe4-0ec3-4106-8eaf-c73fcdd29165"
      },
      "outputs": [],
      "source": [
        "# Код запроса, который возвращает средние значения границ зарплатной вилки\n",
        "query_4_3 = f'''SELECT \n",
        "                    AVG(vacancies.salary_from) as salary_from,\n",
        "                    AVG(vacancies.salary_to) as salary_to\n",
        "                FROM \n",
        "                    public.vacancies as vacancies             \n",
        "'''"
      ]
    },
    {
      "cell_type": "code",
      "execution_count": 303,
      "id": "pswpAb66ovZZ",
      "metadata": {
        "id": "pswpAb66ovZZ"
      },
      "outputs": [
        {
          "name": "stdout",
          "output_type": "stream",
          "text": [
            "Среднее значение для нижней границы зарплатной вилки: 71065\n",
            "Среднее значение для верхней границы зарплатной вилки: 110537\n"
          ]
        }
      ],
      "source": [
        "# Получаем и выводим результат запроса\n",
        "mean_range_salary = pd.read_sql_query(text(query_4_3), connection)\n",
        "print('Среднее значение для нижней границы зарплатной вилки:', round(mean_range_salary['salary_from'].values[0]))\n",
        "print('Среднее значение для верхней границы зарплатной вилки:', round(mean_range_salary['salary_to'].values[0]))"
      ]
    },
    {
      "cell_type": "markdown",
      "id": "f3fdaec9-5fd3-4260-9cf5-1d7406b628a5",
      "metadata": {
        "id": "f3fdaec9-5fd3-4260-9cf5-1d7406b628a5"
      },
      "source": [
        "4. Напишите запрос, который выведет количество вакансий для каждого сочетания типа рабочего графика (schedule) и типа трудоустройства (employment), используемого в вакансиях. Результат отсортируйте по убыванию количества.\n"
      ]
    },
    {
      "cell_type": "code",
      "execution_count": 304,
      "id": "1ea710ec-871b-431e-9462-c7d0fd87011b",
      "metadata": {
        "id": "1ea710ec-871b-431e-9462-c7d0fd87011b"
      },
      "outputs": [],
      "source": [
        "# Код запроса, который возвращает таблицу с вариантами типа рабочего графика \n",
        "# и типа трудоустройства и подсчитывает количество вакансий с такими вариантами\n",
        "query_4_4 = f'''SELECT \n",
        "                    vacancies.schedule as schedule,\n",
        "                    vacancies.employment as employment,\n",
        "                    COUNT(vacancies.id) as cnt\n",
        "                FROM \n",
        "                    public.vacancies as vacancies\n",
        "                GROUP BY vacancies.schedule, vacancies.employment\n",
        "                ORDER BY cnt DESC\n",
        "'''"
      ]
    },
    {
      "cell_type": "code",
      "execution_count": 305,
      "id": "b6dfcdce",
      "metadata": {},
      "outputs": [
        {
          "data": {
            "text/html": [
              "<div>\n",
              "<style scoped>\n",
              "    .dataframe tbody tr th:only-of-type {\n",
              "        vertical-align: middle;\n",
              "    }\n",
              "\n",
              "    .dataframe tbody tr th {\n",
              "        vertical-align: top;\n",
              "    }\n",
              "\n",
              "    .dataframe thead th {\n",
              "        text-align: right;\n",
              "    }\n",
              "</style>\n",
              "<table border=\"1\" class=\"dataframe\">\n",
              "  <thead>\n",
              "    <tr style=\"text-align: right;\">\n",
              "      <th></th>\n",
              "      <th>schedule</th>\n",
              "      <th>employment</th>\n",
              "      <th>cnt</th>\n",
              "    </tr>\n",
              "  </thead>\n",
              "  <tbody>\n",
              "    <tr>\n",
              "      <th>0</th>\n",
              "      <td>Полный день</td>\n",
              "      <td>Полная занятость</td>\n",
              "      <td>35367</td>\n",
              "    </tr>\n",
              "    <tr>\n",
              "      <th>1</th>\n",
              "      <td>Удаленная работа</td>\n",
              "      <td>Полная занятость</td>\n",
              "      <td>7802</td>\n",
              "    </tr>\n",
              "    <tr>\n",
              "      <th>2</th>\n",
              "      <td>Гибкий график</td>\n",
              "      <td>Полная занятость</td>\n",
              "      <td>1593</td>\n",
              "    </tr>\n",
              "    <tr>\n",
              "      <th>3</th>\n",
              "      <td>Удаленная работа</td>\n",
              "      <td>Частичная занятость</td>\n",
              "      <td>1312</td>\n",
              "    </tr>\n",
              "    <tr>\n",
              "      <th>4</th>\n",
              "      <td>Сменный график</td>\n",
              "      <td>Полная занятость</td>\n",
              "      <td>940</td>\n",
              "    </tr>\n",
              "    <tr>\n",
              "      <th>5</th>\n",
              "      <td>Полный день</td>\n",
              "      <td>Стажировка</td>\n",
              "      <td>569</td>\n",
              "    </tr>\n",
              "    <tr>\n",
              "      <th>6</th>\n",
              "      <td>Вахтовый метод</td>\n",
              "      <td>Полная занятость</td>\n",
              "      <td>367</td>\n",
              "    </tr>\n",
              "    <tr>\n",
              "      <th>7</th>\n",
              "      <td>Полный день</td>\n",
              "      <td>Частичная занятость</td>\n",
              "      <td>347</td>\n",
              "    </tr>\n",
              "    <tr>\n",
              "      <th>8</th>\n",
              "      <td>Гибкий график</td>\n",
              "      <td>Частичная занятость</td>\n",
              "      <td>312</td>\n",
              "    </tr>\n",
              "    <tr>\n",
              "      <th>9</th>\n",
              "      <td>Полный день</td>\n",
              "      <td>Проектная работа</td>\n",
              "      <td>141</td>\n",
              "    </tr>\n",
              "    <tr>\n",
              "      <th>10</th>\n",
              "      <td>Удаленная работа</td>\n",
              "      <td>Проектная работа</td>\n",
              "      <td>133</td>\n",
              "    </tr>\n",
              "    <tr>\n",
              "      <th>11</th>\n",
              "      <td>Гибкий график</td>\n",
              "      <td>Стажировка</td>\n",
              "      <td>116</td>\n",
              "    </tr>\n",
              "    <tr>\n",
              "      <th>12</th>\n",
              "      <td>Сменный график</td>\n",
              "      <td>Частичная занятость</td>\n",
              "      <td>101</td>\n",
              "    </tr>\n",
              "    <tr>\n",
              "      <th>13</th>\n",
              "      <td>Удаленная работа</td>\n",
              "      <td>Стажировка</td>\n",
              "      <td>64</td>\n",
              "    </tr>\n",
              "    <tr>\n",
              "      <th>14</th>\n",
              "      <td>Гибкий график</td>\n",
              "      <td>Проектная работа</td>\n",
              "      <td>18</td>\n",
              "    </tr>\n",
              "    <tr>\n",
              "      <th>15</th>\n",
              "      <td>Сменный график</td>\n",
              "      <td>Стажировка</td>\n",
              "      <td>12</td>\n",
              "    </tr>\n",
              "    <tr>\n",
              "      <th>16</th>\n",
              "      <td>Вахтовый метод</td>\n",
              "      <td>Проектная работа</td>\n",
              "      <td>2</td>\n",
              "    </tr>\n",
              "    <tr>\n",
              "      <th>17</th>\n",
              "      <td>Сменный график</td>\n",
              "      <td>Проектная работа</td>\n",
              "      <td>1</td>\n",
              "    </tr>\n",
              "  </tbody>\n",
              "</table>\n",
              "</div>"
            ],
            "text/plain": [
              "            schedule           employment    cnt\n",
              "0        Полный день     Полная занятость  35367\n",
              "1   Удаленная работа     Полная занятость   7802\n",
              "2      Гибкий график     Полная занятость   1593\n",
              "3   Удаленная работа  Частичная занятость   1312\n",
              "4     Сменный график     Полная занятость    940\n",
              "5        Полный день           Стажировка    569\n",
              "6     Вахтовый метод     Полная занятость    367\n",
              "7        Полный день  Частичная занятость    347\n",
              "8      Гибкий график  Частичная занятость    312\n",
              "9        Полный день     Проектная работа    141\n",
              "10  Удаленная работа     Проектная работа    133\n",
              "11     Гибкий график           Стажировка    116\n",
              "12    Сменный график  Частичная занятость    101\n",
              "13  Удаленная работа           Стажировка     64\n",
              "14     Гибкий график     Проектная работа     18\n",
              "15    Сменный график           Стажировка     12\n",
              "16    Вахтовый метод     Проектная работа      2\n",
              "17    Сменный график     Проектная работа      1"
            ]
          },
          "metadata": {},
          "output_type": "display_data"
        }
      ],
      "source": [
        "# Получаем и выводим результат запроса\n",
        "schedule_emloyment_combination = pd.read_sql_query(text(query_4_4), connection)\n",
        "display(schedule_emloyment_combination)"
      ]
    },
    {
      "cell_type": "code",
      "execution_count": 306,
      "id": "ce39faa2",
      "metadata": {},
      "outputs": [
        {
          "data": {
            "image/png": "[encoded data removed]",
            "text/plain": [
              "<Figure size 1000x700 with 1 Axes>"
            ]
          },
          "metadata": {},
          "output_type": "display_data"
        }
      ],
      "source": [
        "# Создаем столбец с парами типов трудоустройства и графика\n",
        "schedule_emloyment_combination['options'] = schedule_emloyment_combination['schedule']+\" - \"+schedule_emloyment_combination['employment']\n",
        "\n",
        "# Выводим столбчатую диаграмму вариантов трудоустройства и графика и кол-во вакансий для них\n",
        "fig, axes = plt.subplots(figsize=(10, 7))\n",
        "barplot = sns.barplot(\n",
        "    data=schedule_emloyment_combination,\n",
        "    x='cnt',\n",
        "    y='options',\n",
        "    orient='h'\n",
        ")\n",
        "barplot.set_title('Количество вакансий с определенными типами рабочего графика и трудоустройства', fontsize=10)\n",
        "barplot.tick_params(axis='y', labelsize=7)\n",
        "barplot.set_xlabel('Количество вакансий, шт.', fontsize=10)\n",
        "barplot.set_ylabel('Тип рабочего графика и тип трудоустройства', fontsize=10)\n",
        "barplot.xaxis.set_major_locator(ticker.MultipleLocator(5000))\n",
        "barplot.grid(linestyle=':')"
      ]
    },
    {
      "cell_type": "markdown",
      "id": "0136ffee-0ead-4a6b-b608-61d1c753a438",
      "metadata": {
        "id": "0136ffee-0ead-4a6b-b608-61d1c753a438"
      },
      "source": [
        "5. Напишите запрос, выводящий значения поля Требуемый опыт работы (experience) в порядке возрастания количества вакансий, в которых указан данный вариант опыта. "
      ]
    },
    {
      "cell_type": "code",
      "execution_count": 307,
      "id": "5b3a8e79-f7ab-4008-b767-12aea3a205ea",
      "metadata": {
        "id": "5b3a8e79-f7ab-4008-b767-12aea3a205ea"
      },
      "outputs": [],
      "source": [
        "# Код запроса, который возвращает таблицу с вариантами опыта работы и количеством вакансий,\n",
        "# в которых этот вариант указан\n",
        "query_4_5 = f'''SELECT \n",
        "                    vacancies.experience as experience,\n",
        "                    COUNT(vacancies.id) as cnt\n",
        "                FROM \n",
        "                    public.vacancies as vacancies\n",
        "                WHERE vacancies.experience IS NOT NULL\n",
        "                GROUP BY vacancies.experience\n",
        "                ORDER BY cnt ASC\n",
        "'''"
      ]
    },
    {
      "cell_type": "code",
      "execution_count": 308,
      "id": "3Is64Y-hpDpq",
      "metadata": {
        "id": "3Is64Y-hpDpq"
      },
      "outputs": [
        {
          "data": {
            "text/html": [
              "<div>\n",
              "<style scoped>\n",
              "    .dataframe tbody tr th:only-of-type {\n",
              "        vertical-align: middle;\n",
              "    }\n",
              "\n",
              "    .dataframe tbody tr th {\n",
              "        vertical-align: top;\n",
              "    }\n",
              "\n",
              "    .dataframe thead th {\n",
              "        text-align: right;\n",
              "    }\n",
              "</style>\n",
              "<table border=\"1\" class=\"dataframe\">\n",
              "  <thead>\n",
              "    <tr style=\"text-align: right;\">\n",
              "      <th></th>\n",
              "      <th>experience</th>\n",
              "      <th>cnt</th>\n",
              "    </tr>\n",
              "  </thead>\n",
              "  <tbody>\n",
              "    <tr>\n",
              "      <th>0</th>\n",
              "      <td>Более 6 лет</td>\n",
              "      <td>1337</td>\n",
              "    </tr>\n",
              "    <tr>\n",
              "      <th>1</th>\n",
              "      <td>Нет опыта</td>\n",
              "      <td>7197</td>\n",
              "    </tr>\n",
              "    <tr>\n",
              "      <th>2</th>\n",
              "      <td>От 3 до 6 лет</td>\n",
              "      <td>14511</td>\n",
              "    </tr>\n",
              "    <tr>\n",
              "      <th>3</th>\n",
              "      <td>От 1 года до 3 лет</td>\n",
              "      <td>26152</td>\n",
              "    </tr>\n",
              "  </tbody>\n",
              "</table>\n",
              "</div>"
            ],
            "text/plain": [
              "           experience    cnt\n",
              "0         Более 6 лет   1337\n",
              "1           Нет опыта   7197\n",
              "2       От 3 до 6 лет  14511\n",
              "3  От 1 года до 3 лет  26152"
            ]
          },
          "metadata": {},
          "output_type": "display_data"
        }
      ],
      "source": [
        "# Получаем и выводим результат запроса\n",
        "experience_option = pd.read_sql_query(text(query_4_5), connection)\n",
        "display(experience_option)"
      ]
    },
    {
      "cell_type": "code",
      "execution_count": 309,
      "id": "a635d4c0",
      "metadata": {},
      "outputs": [
        {
          "data": {
            "image/png": "[encoded data removed]",
            "text/plain": [
              "<Figure size 1000x600 with 1 Axes>"
            ]
          },
          "metadata": {},
          "output_type": "display_data"
        }
      ],
      "source": [
        "# Для визуализации строим круговую диаграмму доли вакансий в зависимости от опыта работы\n",
        "fig = plt.figure(figsize=(10, 6))\n",
        "ax = fig.add_axes((1, 1, 1, 1))\n",
        "pie = ax.pie(\n",
        "    experience_option['cnt'],\n",
        "    labels=experience_option['experience'],\n",
        "    autopct='%1.1f%%'\n",
        ")\n",
        "ax.set_title('Доля вакансий в зависимости от опыта работы', fontsize=12)\n",
        "plt.show(pie)"
      ]
    },
    {
      "cell_type": "markdown",
      "id": "oq2b7n1QpIka",
      "metadata": {
        "id": "oq2b7n1QpIka"
      },
      "source": [
        "***"
      ]
    },
    {
      "attachments": {},
      "cell_type": "markdown",
      "id": "8570a3a1",
      "metadata": {},
      "source": [
        "#### **Выводы по детальному анализу вакансий**\n",
        "\n",
        "Из 1362 регионов действующие вакансии есть только в 769, что составляет примерно 57% от общего количества регионов. При этом 80% вакансий территориально находятся в первых 50 городах (в рейтинге по количеству вакансий), что объяснимо наличием городов-миллионников, в которых больше работодателей. \n",
        "\n",
        "Только в 10102 (~20%) вакансиях работодатель указал обе границы оплаты труда, при этом только 24073 (~49%) вакансий имеют информацию хотя бы об одной границе оплаты труда, то есть больше половины вакансий не имеет информации, которая больше всего интересует соискателей, причиной этого может быть политика компании, когда заработную плату назначают по итогам собеседования, если в компанию требуется руководитель, его зарплату не указывают по причине большой разницы в зарплатах рядовых сотрудников и руководства, либо в компании настолько низкая оплата труда, что она не выдержит конкуренции с другими работодателями, либо компания не проводила исследования или не готова обозначить оплату сотрудника по требуемой вакансии. В данном вопросе требуются дополнительные исследования, чтобы понять, для какого количества вакансий, где требуется позиция Data Scientist границы указаны, и подходит ли это количество, чтобы обучить модель. Но предварительно можно сделать вывод, что признаки границ заработной платы в текущем варианте не подходят для обучения модели, так как не выполнено условие 60% данных, требуемых для обучения.То есть в сыром виде использовать признаки заработной платы невозможно.\n",
        "\n",
        "Львиная доля вакансий (35367) предполагает полную занятость и полный рабочий день, на втором месте удаленная работа и полная занятость. Эти типы трудоустроцства и графика являются самыми распространенными и часто присущи вакансиям Data Scientist. В дальнейшем можно исследовать более детально какие типы трудоустройства и графика работы предлагают работодатели для позиции дата-сайентиста. Из анализа резюме мы знаем, что полная занятость и полный рабочий день являются самыми популярными и с самыми большими ожиданиями в заработной плате вариантами, поэтому в дальнейшем можно исследовать какую заработную плату предлагают работодатели для самых популярных вариантов графика и в частности что указано для вакансий дата-сайентистов. Поскольку данные о графике и типе трудоустройства указаны во всех вакансиях, то эти данные хорошо подходят для обучения модели.\n",
        "\n",
        "Большая часть вакансий по опыту работы находится в препределах от 1 года до 6 лет (от 1 года до 3 лет - 53.2% и от 3 до 6 лет - 29.5%), из исследования резюме мы знаем, что медианный опыт работы составляет 100 месяцев (~8 лет), а значит вакансии в нашей базе данных подходят более 80% соискателей, что хорошо для обучения модели. Для дальнейшего исследования стоит рассмотреть более детально какой опыт работы хотят видеть работодатели ищущие дата-сайентистов, а также изучить вакансии для начинающих дата-сайентистов, в том числе в разрезе разаботной платы."
      ]
    },
    {
      "cell_type": "markdown",
      "id": "7ea20ab6-04a7-40a0-adec-443a0e5a42c3",
      "metadata": {
        "id": "7ea20ab6-04a7-40a0-adec-443a0e5a42c3"
      },
      "source": [
        "# Юнит 5. Анализ работодателей"
      ]
    },
    {
      "cell_type": "markdown",
      "id": "968aed80-74ef-4ffb-b5bf-c65b84e9caea",
      "metadata": {
        "id": "968aed80-74ef-4ffb-b5bf-c65b84e9caea"
      },
      "source": [
        "1. Напишите запрос, который позволит узнать, какие работодатели находятся на первом и пятом месте по количеству вакансий."
      ]
    },
    {
      "cell_type": "code",
      "execution_count": 310,
      "id": "f2d62796-d400-4ec1-a675-88112739a50e",
      "metadata": {
        "id": "f2d62796-d400-4ec1-a675-88112739a50e"
      },
      "outputs": [],
      "source": [
        "# Код запроса, для получения рейтинга работодателей по количеству вакансий (возвращаем только 1 и 5 места)\n",
        "query_5_1 = f'''(SELECT \n",
        "                    employers.name as employer,\n",
        "                    COUNT(vacancies.id) as cnt\n",
        "                FROM \n",
        "                    public.vacancies as vacancies\n",
        "                    JOIN public.employers as employers ON employers.id = vacancies.employer_id\n",
        "                GROUP BY employers.id\n",
        "                ORDER BY cnt DESC\n",
        "                LIMIT 1)\n",
        "                UNION ALL\n",
        "                (SELECT \n",
        "                    employers.name as employer,\n",
        "                    COUNT(vacancies.id) as cnt\n",
        "                FROM \n",
        "                    public.vacancies as vacancies\n",
        "                    JOIN public.employers as employers ON employers.id = vacancies.employer_id\n",
        "                GROUP BY employers.id\n",
        "                ORDER BY cnt DESC\n",
        "                OFFSET 4 LIMIT 1)\n",
        "'''"
      ]
    },
    {
      "cell_type": "code",
      "execution_count": 311,
      "id": "64tOMkAxqkQk",
      "metadata": {
        "id": "64tOMkAxqkQk"
      },
      "outputs": [
        {
          "data": {
            "text/html": [
              "<div>\n",
              "<style scoped>\n",
              "    .dataframe tbody tr th:only-of-type {\n",
              "        vertical-align: middle;\n",
              "    }\n",
              "\n",
              "    .dataframe tbody tr th {\n",
              "        vertical-align: top;\n",
              "    }\n",
              "\n",
              "    .dataframe thead th {\n",
              "        text-align: right;\n",
              "    }\n",
              "</style>\n",
              "<table border=\"1\" class=\"dataframe\">\n",
              "  <thead>\n",
              "    <tr style=\"text-align: right;\">\n",
              "      <th></th>\n",
              "      <th>employer</th>\n",
              "      <th>cnt</th>\n",
              "    </tr>\n",
              "  </thead>\n",
              "  <tbody>\n",
              "    <tr>\n",
              "      <th>0</th>\n",
              "      <td>Яндекс</td>\n",
              "      <td>1933</td>\n",
              "    </tr>\n",
              "    <tr>\n",
              "      <th>1</th>\n",
              "      <td>Газпром нефть</td>\n",
              "      <td>331</td>\n",
              "    </tr>\n",
              "  </tbody>\n",
              "</table>\n",
              "</div>"
            ],
            "text/plain": [
              "        employer   cnt\n",
              "0         Яндекс  1933\n",
              "1  Газпром нефть   331"
            ]
          },
          "metadata": {},
          "output_type": "display_data"
        }
      ],
      "source": [
        "# Вызываем и выводим результат запроса\n",
        "employers_1_and_5_places = pd.read_sql_query(text(query_5_1), connection)\n",
        "display(employers_1_and_5_places)"
      ]
    },
    {
      "attachments": {},
      "cell_type": "markdown",
      "id": "68377cfc-b378-43dc-ab7d-1195abf2c515",
      "metadata": {
        "id": "68377cfc-b378-43dc-ab7d-1195abf2c515"
      },
      "source": [
        "2. Напишите запрос, который для каждого региона выведет количество работодателей и вакансий в нём.\n",
        "Среди регионов, в которых нет вакансий, найдите тот, в котором наибольшее количество работодателей.\n"
      ]
    },
    {
      "cell_type": "code",
      "execution_count": 312,
      "id": "dd7df27a-e3e8-412e-a21a-5d389b71e891",
      "metadata": {
        "id": "dd7df27a-e3e8-412e-a21a-5d389b71e891"
      },
      "outputs": [],
      "source": [
        "# Код запроса, который возвращает имена регионов, в которых отсутствуют вакансии в порядке убывания количества работодателей\n",
        "query_5_2 = f'''SELECT\n",
        "                    areas.name,\n",
        "                    COUNT(vacancies.id) as cnt_vacancies,\n",
        "                    COUNT(DISTINCT employers.id) as cnt_employers\n",
        "                FROM \n",
        "                    public.areas as areas\n",
        "                    LEFT JOIN public.vacancies as vacancies ON vacancies.area_id = areas.id\n",
        "                    JOIN public.employers as employers ON employers.area = areas.id\n",
        "                    WHERE vacancies.id IS NULL\n",
        "                GROUP BY areas.id\n",
        "                ORDER BY cnt_vacancies NULLS FIRST, cnt_employers DESC\n",
        "'''"
      ]
    },
    {
      "cell_type": "code",
      "execution_count": 313,
      "id": "x1ikWbydrbf6",
      "metadata": {
        "id": "x1ikWbydrbf6"
      },
      "outputs": [
        {
          "data": {
            "text/html": [
              "<div>\n",
              "<style scoped>\n",
              "    .dataframe tbody tr th:only-of-type {\n",
              "        vertical-align: middle;\n",
              "    }\n",
              "\n",
              "    .dataframe tbody tr th {\n",
              "        vertical-align: top;\n",
              "    }\n",
              "\n",
              "    .dataframe thead th {\n",
              "        text-align: right;\n",
              "    }\n",
              "</style>\n",
              "<table border=\"1\" class=\"dataframe\">\n",
              "  <thead>\n",
              "    <tr style=\"text-align: right;\">\n",
              "      <th></th>\n",
              "      <th>name</th>\n",
              "      <th>cnt_vacancies</th>\n",
              "      <th>cnt_employers</th>\n",
              "    </tr>\n",
              "  </thead>\n",
              "  <tbody>\n",
              "    <tr>\n",
              "      <th>0</th>\n",
              "      <td>Россия</td>\n",
              "      <td>0</td>\n",
              "      <td>410</td>\n",
              "    </tr>\n",
              "    <tr>\n",
              "      <th>1</th>\n",
              "      <td>Казахстан</td>\n",
              "      <td>0</td>\n",
              "      <td>207</td>\n",
              "    </tr>\n",
              "    <tr>\n",
              "      <th>2</th>\n",
              "      <td>Московская область</td>\n",
              "      <td>0</td>\n",
              "      <td>75</td>\n",
              "    </tr>\n",
              "    <tr>\n",
              "      <th>3</th>\n",
              "      <td>Краснодарский край</td>\n",
              "      <td>0</td>\n",
              "      <td>19</td>\n",
              "    </tr>\n",
              "    <tr>\n",
              "      <th>4</th>\n",
              "      <td>Беларусь</td>\n",
              "      <td>0</td>\n",
              "      <td>18</td>\n",
              "    </tr>\n",
              "    <tr>\n",
              "      <th>...</th>\n",
              "      <td>...</td>\n",
              "      <td>...</td>\n",
              "      <td>...</td>\n",
              "    </tr>\n",
              "    <tr>\n",
              "      <th>181</th>\n",
              "      <td>Витебская область</td>\n",
              "      <td>0</td>\n",
              "      <td>1</td>\n",
              "    </tr>\n",
              "    <tr>\n",
              "      <th>182</th>\n",
              "      <td>Ивацевичи</td>\n",
              "      <td>0</td>\n",
              "      <td>1</td>\n",
              "    </tr>\n",
              "    <tr>\n",
              "      <th>183</th>\n",
              "      <td>Дубровно</td>\n",
              "      <td>0</td>\n",
              "      <td>1</td>\n",
              "    </tr>\n",
              "    <tr>\n",
              "      <th>184</th>\n",
              "      <td>Буда-Кошелево</td>\n",
              "      <td>0</td>\n",
              "      <td>1</td>\n",
              "    </tr>\n",
              "    <tr>\n",
              "      <th>185</th>\n",
              "      <td>Сморгонь</td>\n",
              "      <td>0</td>\n",
              "      <td>1</td>\n",
              "    </tr>\n",
              "  </tbody>\n",
              "</table>\n",
              "<p>186 rows × 3 columns</p>\n",
              "</div>"
            ],
            "text/plain": [
              "                   name  cnt_vacancies  cnt_employers\n",
              "0                Россия              0            410\n",
              "1             Казахстан              0            207\n",
              "2    Московская область              0             75\n",
              "3    Краснодарский край              0             19\n",
              "4              Беларусь              0             18\n",
              "..                  ...            ...            ...\n",
              "181   Витебская область              0              1\n",
              "182           Ивацевичи              0              1\n",
              "183            Дубровно              0              1\n",
              "184       Буда-Кошелево              0              1\n",
              "185            Сморгонь              0              1\n",
              "\n",
              "[186 rows x 3 columns]"
            ]
          },
          "metadata": {},
          "output_type": "display_data"
        }
      ],
      "source": [
        "# Вызываем запрос и выводим результат запроса\n",
        "employers_and_vacancies_by_areas = pd.read_sql_query(text(query_5_2), connection)\n",
        "display(employers_and_vacancies_by_areas)"
      ]
    },
    {
      "cell_type": "markdown",
      "id": "f2fe0acb-ab1a-4e15-9326-2560e22d73c1",
      "metadata": {
        "id": "f2fe0acb-ab1a-4e15-9326-2560e22d73c1"
      },
      "source": [
        "3. Для каждого работодателя посчитайте количество регионов, в которых он публикует свои вакансии. Отсортируйте результат по убыванию количества.\n"
      ]
    },
    {
      "cell_type": "code",
      "execution_count": 314,
      "id": "6271f8ad-bd2e-4196-ae4a-5b39c4c1010e",
      "metadata": {
        "id": "6271f8ad-bd2e-4196-ae4a-5b39c4c1010e"
      },
      "outputs": [],
      "source": [
        "# Код запроса, который возвращает рейтинг работодателей по количеству регионов, в которых они публикуют вакансии\n",
        "query_5_3 = f'''SELECT\n",
        "                    employers.name as employers,\n",
        "                    COUNT(DISTINCT vacancies.area_id) as cnt_areas_of_vacancies\n",
        "                FROM \n",
        "                    public.employers as employers\n",
        "                    LEFT JOIN public.vacancies as vacancies ON vacancies.employer_id = employers.id\n",
        "                GROUP BY employers.id\n",
        "                ORDER BY cnt_areas_of_vacancies DESC\n",
        "'''"
      ]
    },
    {
      "cell_type": "code",
      "execution_count": 315,
      "id": "1EIvX3HasH4F",
      "metadata": {
        "id": "1EIvX3HasH4F"
      },
      "outputs": [
        {
          "data": {
            "text/html": [
              "<div>\n",
              "<style scoped>\n",
              "    .dataframe tbody tr th:only-of-type {\n",
              "        vertical-align: middle;\n",
              "    }\n",
              "\n",
              "    .dataframe tbody tr th {\n",
              "        vertical-align: top;\n",
              "    }\n",
              "\n",
              "    .dataframe thead th {\n",
              "        text-align: right;\n",
              "    }\n",
              "</style>\n",
              "<table border=\"1\" class=\"dataframe\">\n",
              "  <thead>\n",
              "    <tr style=\"text-align: right;\">\n",
              "      <th></th>\n",
              "      <th>employers</th>\n",
              "      <th>cnt_areas_of_vacancies</th>\n",
              "    </tr>\n",
              "  </thead>\n",
              "  <tbody>\n",
              "    <tr>\n",
              "      <th>0</th>\n",
              "      <td>Яндекс</td>\n",
              "      <td>181</td>\n",
              "    </tr>\n",
              "    <tr>\n",
              "      <th>1</th>\n",
              "      <td>Ростелеком</td>\n",
              "      <td>152</td>\n",
              "    </tr>\n",
              "    <tr>\n",
              "      <th>2</th>\n",
              "      <td>Спецремонт</td>\n",
              "      <td>116</td>\n",
              "    </tr>\n",
              "    <tr>\n",
              "      <th>3</th>\n",
              "      <td>Поляков Денис Иванович</td>\n",
              "      <td>88</td>\n",
              "    </tr>\n",
              "    <tr>\n",
              "      <th>4</th>\n",
              "      <td>ООО ЕФИН</td>\n",
              "      <td>71</td>\n",
              "    </tr>\n",
              "    <tr>\n",
              "      <th>...</th>\n",
              "      <td>...</td>\n",
              "      <td>...</td>\n",
              "    </tr>\n",
              "    <tr>\n",
              "      <th>23496</th>\n",
              "      <td>Но Смокинг</td>\n",
              "      <td>0</td>\n",
              "    </tr>\n",
              "    <tr>\n",
              "      <th>23497</th>\n",
              "      <td>МАСТЕРСКАЯ CREED</td>\n",
              "      <td>0</td>\n",
              "    </tr>\n",
              "    <tr>\n",
              "      <th>23498</th>\n",
              "      <td>Dzing Finance</td>\n",
              "      <td>0</td>\n",
              "    </tr>\n",
              "    <tr>\n",
              "      <th>23499</th>\n",
              "      <td>КОРС</td>\n",
              "      <td>0</td>\n",
              "    </tr>\n",
              "    <tr>\n",
              "      <th>23500</th>\n",
              "      <td>Наука-Связь</td>\n",
              "      <td>0</td>\n",
              "    </tr>\n",
              "  </tbody>\n",
              "</table>\n",
              "<p>23501 rows × 2 columns</p>\n",
              "</div>"
            ],
            "text/plain": [
              "                    employers  cnt_areas_of_vacancies\n",
              "0                      Яндекс                     181\n",
              "1                  Ростелеком                     152\n",
              "2                  Спецремонт                     116\n",
              "3      Поляков Денис Иванович                      88\n",
              "4                   ООО ЕФИН                       71\n",
              "...                       ...                     ...\n",
              "23496              Но Смокинг                       0\n",
              "23497        МАСТЕРСКАЯ CREED                       0\n",
              "23498           Dzing Finance                       0\n",
              "23499                    КОРС                       0\n",
              "23500             Наука-Связь                       0\n",
              "\n",
              "[23501 rows x 2 columns]"
            ]
          },
          "metadata": {},
          "output_type": "display_data"
        }
      ],
      "source": [
        "# Вызываем запрос и выводим его результат\n",
        "areas_of_employers_vacancies = pd.read_sql_query(text(query_5_3), connection)\n",
        "display(areas_of_employers_vacancies)"
      ]
    },
    {
      "cell_type": "markdown",
      "id": "eab2206d-d95b-468b-8e5f-34381abf0ce7",
      "metadata": {
        "id": "eab2206d-d95b-468b-8e5f-34381abf0ce7"
      },
      "source": [
        "4. Напишите запрос для подсчёта количества работодателей, у которых не указана сфера деятельности. "
      ]
    },
    {
      "cell_type": "code",
      "execution_count": 316,
      "id": "80defb23-bfb1-4a18-8be6-bf36aa7165d5",
      "metadata": {
        "id": "80defb23-bfb1-4a18-8be6-bf36aa7165d5"
      },
      "outputs": [],
      "source": [
        "# Код запроса, для определения количества работодателей, не указавших свою сферу деятельности\n",
        "query_5_4 = f'''SELECT \n",
        "                    COUNT(DISTINCT employers.id)\n",
        "                FROM \n",
        "                    public.employers as employers\n",
        "                    LEFT JOIN public.employers_industries as emp_ind ON emp_ind.employer_id = employers.id\n",
        "                WHERE emp_ind.industry_id IS NULL\n",
        "'''"
      ]
    },
    {
      "cell_type": "code",
      "execution_count": 317,
      "id": "Dp_yCx6ysQSu",
      "metadata": {
        "id": "Dp_yCx6ysQSu"
      },
      "outputs": [
        {
          "name": "stdout",
          "output_type": "stream",
          "text": [
            "Количество работодателей, для которых не указана сфера деятельности: 8419\n"
          ]
        }
      ],
      "source": [
        "# Вызов запроса и вывод результата\n",
        "employers_without_industries = (pd.read_sql_query(text(query_5_4), connection)).values[0][0]\n",
        "print('Количество работодателей, для которых не указана сфера деятельности:', employers_without_industries)"
      ]
    },
    {
      "cell_type": "markdown",
      "id": "0112af31-f6b0-4e3b-82ab-71296e752e5e",
      "metadata": {
        "id": "0112af31-f6b0-4e3b-82ab-71296e752e5e"
      },
      "source": [
        "5. Напишите запрос, чтобы узнать название компании, находящейся на третьем месте в алфавитном списке (по названию) компаний, у которых указано четыре сферы деятельности. "
      ]
    },
    {
      "cell_type": "code",
      "execution_count": 318,
      "id": "973b0cfc-a972-470a-8b4a-68744ef220c4",
      "metadata": {
        "id": "973b0cfc-a972-470a-8b4a-68744ef220c4"
      },
      "outputs": [],
      "source": [
        "# Код запроса, выводящий название компании на третьем месте в алфавитном перечне компаний с 4мя сферами деятельности\n",
        "query_5_5 = f'''SELECT\n",
        "                    employers.name as name\n",
        "                FROM \n",
        "                    public.employers as employers\n",
        "                    JOIN public.employers_industries as emp_ind ON emp_ind.employer_id = employers.id\n",
        "                GROUP BY employers.id\n",
        "                HAVING COUNT(emp_ind.industry_id)=4\n",
        "                ORDER BY name\n",
        "                OFFSET 2 LIMIT 1                \n",
        "'''"
      ]
    },
    {
      "cell_type": "code",
      "execution_count": 319,
      "id": "xsPtpp8EsaED",
      "metadata": {
        "id": "xsPtpp8EsaED"
      },
      "outputs": [
        {
          "name": "stdout",
          "output_type": "stream",
          "text": [
            "Компания, находящаяся на 3 месте в списке компаний, у которых 4 сферы деятельности: 2ГИС\n"
          ]
        }
      ],
      "source": [
        "# Вызываем запрос и выводим результат запроса\n",
        "third_employer_with_4_industries = (pd.read_sql_query(text(query_5_5), connection)).values[0][0]\n",
        "print('Компания, находящаяся на 3 месте в списке компаний, у которых 4 сферы деятельности:', third_employer_with_4_industries)"
      ]
    },
    {
      "cell_type": "markdown",
      "id": "3bfcfdaf-755d-4d2b-8ed8-326201dc07ab",
      "metadata": {
        "id": "3bfcfdaf-755d-4d2b-8ed8-326201dc07ab"
      },
      "source": [
        "6. С помощью запроса выясните, у какого количества работодателей в качестве сферы деятельности указана Разработка программного обеспечения.\n"
      ]
    },
    {
      "cell_type": "code",
      "execution_count": 320,
      "id": "ad3f270f-2991-47eb-929b-e8f88a55b0d1",
      "metadata": {
        "id": "ad3f270f-2991-47eb-929b-e8f88a55b0d1"
      },
      "outputs": [],
      "source": [
        "# Код запроса, подсчитывающий количество компаний со ферой деятельности - Разработка программного обеспечения\n",
        "query_5_6 = f'''SELECT\n",
        "                    COUNT(employers.id)\n",
        "                FROM \n",
        "                    public.employers_industries as emp_ind\n",
        "                    JOIN public.employers as employers ON employers.id = emp_ind.employer_id\n",
        "                    JOIN public.industries as industries ON industries.id = emp_ind.industry_id\n",
        "                WHERE industries.name LIKE 'Разработка программного обеспечения'    \n",
        "'''"
      ]
    },
    {
      "cell_type": "code",
      "execution_count": 321,
      "id": "H72qxWM0shPR",
      "metadata": {
        "id": "H72qxWM0shPR"
      },
      "outputs": [
        {
          "name": "stdout",
          "output_type": "stream",
          "text": [
            "Количество работодателей, у которых в качестве сферы деятельности указана Разработка программного обеспечения: 3553\n"
          ]
        }
      ],
      "source": [
        "# Вызываем запрос и выводим результат запроса\n",
        "count_employers_by_mask = (pd.read_sql_query(text(query_5_6), connection)).values[0][0]\n",
        "print('Количество работодателей, у которых в качестве сферы деятельности указана Разработка программного обеспечения:', \n",
        "      count_employers_by_mask\n",
        ")"
      ]
    },
    {
      "cell_type": "markdown",
      "id": "7b02bb86-0546-40fb-94a4-242f050a5c57",
      "metadata": {
        "id": "7b02bb86-0546-40fb-94a4-242f050a5c57"
      },
      "source": [
        "7. Для компании «Яндекс» выведите список регионов-миллионников, в которых представлены вакансии компании, вместе с количеством вакансий в этих регионах. Также добавьте строку Total с общим количеством вакансий компании. Результат отсортируйте по возрастанию количества.\n",
        "\n",
        "Список городов-милионников надо взять [отсюда](https://ru.wikipedia.org/wiki/%D0%93%D0%BE%D1%80%D0%BE%D0%B4%D0%B0-%D0%BC%D0%B8%D0%BB%D0%BB%D0%B8%D0%BE%D0%BD%D0%B5%D1%80%D1%8B_%D0%A0%D0%BE%D1%81%D1%81%D0%B8%D0%B8). \n",
        "\n",
        "Если возникнут трудности с этим задание посмотрите материалы модуля  PYTHON-17. Как получать данные из веб-источников и API. "
      ]
    },
    {
      "cell_type": "code",
      "execution_count": 322,
      "id": "ZdfrL6gIs1Pn",
      "metadata": {
        "id": "ZdfrL6gIs1Pn"
      },
      "outputs": [],
      "source": [
        "# Код для получения списка городов-милионников\n",
        "url = 'https://ru.wikipedia.org/wiki/%D0%93%D0%BE%D1%80%D0%BE%D0%B4%D0%B0-%D0%BC%D0%B8%D0%BB%D0%BB%D0%B8%D0%BE%D0%BD%D0%B5%D1%80%D1%8B_%D0%A0%D0%BE%D1%81%D1%81%D0%B8%D0%B8'\n",
        "contents = requests.get(url).text\n",
        "soup = BeautifulSoup(contents, 'lxml')\n",
        "million_cities = []\n",
        "for i in range(2,18):\n",
        "    city = soup.select(f'#mw-content-text > div > table.standard.sortable > tbody > tr:nth-child({i}) > td:nth-child(2) > a')\n",
        "    city = (str(city[0])).split('\"')\n",
        "    million_cities.append(city[3])\n",
        "    i += 1\n",
        "million_cities = tuple(million_cities)"
      ]
    },
    {
      "cell_type": "code",
      "execution_count": 323,
      "id": "5a0e32a4-e68a-4365-8a39-2fe24c542c36",
      "metadata": {
        "id": "5a0e32a4-e68a-4365-8a39-2fe24c542c36"
      },
      "outputs": [],
      "source": [
        "# Код запроса, который подсчитывает количество вакансий компании Яндекс в городах-миллионниках, \n",
        "# а также общее количество вакансий этой компании\n",
        "query_5_7 = f'''SELECT\n",
        "                    areas.name as citi_name,\n",
        "                    COUNT(vacancies.id) as cnt\n",
        "                FROM\n",
        "                    public.vacancies as vacancies\n",
        "                    JOIN public.employers as employers ON employers.id = vacancies.employer_id\n",
        "                    AND employers.name = 'Яндекс'\n",
        "                    JOIN public.areas as areas ON areas.id = vacancies.area_id\n",
        "                    AND areas.name in {million_cities}\n",
        "                GROUP BY areas.name\n",
        "                UNION ALL\n",
        "                SELECT\n",
        "                    'Total',\n",
        "                    COUNT(*) as cnt\n",
        "                FROM\n",
        "                    public.vacancies as vacancies\n",
        "                    JOIN public.employers as employers ON employers.id = vacancies.employer_id\n",
        "                    AND employers.name = 'Яндекс'\n",
        "                    JOIN public.areas as areas ON areas.id = vacancies.area_id\n",
        "                    AND areas.name in {million_cities}\n",
        "                ORDER BY cnt ASC\n",
        "'''"
      ]
    },
    {
      "cell_type": "code",
      "execution_count": 324,
      "id": "ttPhiO1rsvPq",
      "metadata": {
        "id": "ttPhiO1rsvPq"
      },
      "outputs": [
        {
          "name": "stdout",
          "output_type": "stream",
          "text": [
            "Количество вакансий компании \"Яндекс\"  в городах-миллионниках: \n",
            "           citi_name  cnt\n",
            "0              Омск   21\n",
            "1         Челябинск   22\n",
            "2        Красноярск   23\n",
            "3         Волгоград   24\n",
            "4             Пермь   25\n",
            "5            Казань   25\n",
            "6    Ростов-на-Дону   25\n",
            "7               Уфа   26\n",
            "8            Самара   26\n",
            "9         Краснодар   30\n",
            "10          Воронеж   32\n",
            "11      Новосибирск   35\n",
            "12  Нижний Новгород   36\n",
            "13     Екатеринбург   39\n",
            "14  Санкт-Петербург   42\n",
            "15           Москва   54\n",
            "16            Total  485\n"
          ]
        }
      ],
      "source": [
        "# Вызываем запрос и выводим результат его выполнения\n",
        "yandex_vacancies = pd.read_sql_query(text(query_5_7), connection)\n",
        "print('Количество вакансий компании \"Яндекс\"  в городах-миллионниках: \\n', yandex_vacancies)"
      ]
    },
    {
      "cell_type": "markdown",
      "id": "04966e40-3bc3-4dc8-9ba2-e80580ce3abc",
      "metadata": {
        "id": "04966e40-3bc3-4dc8-9ba2-e80580ce3abc"
      },
      "source": [
        "***"
      ]
    },
    {
      "attachments": {},
      "cell_type": "markdown",
      "id": "330e4447",
      "metadata": {},
      "source": [
        "#### **Выводы по анализу работодателей**\n",
        "\n",
        "Исследование работодателей показало, что наибольшее количество вакансий  размещено компанией *\"Яндекс\"* - 1933 из них четверть вакансий в городах-миллионниках. При этом у компании *\"Яндекс\"*, самый большой территориальный охват, ее вакансии размещены в 181 регионах, на втором месте по территориальному охвату компания *\"Ростелеком\"*. \n",
        "\n",
        "В первую двойку регионов, в которых нет вакансий, входят регионы: Россия и Казахстан - географически они включают в себя области и округа, то есть представляют из себя множества других регионов этой же таблицы. И поскольку вакансии можно привязать к более точным географическим местоположениям, работодатели не указывают обобщающие регионы. Вместе с тем, в данных регионах зарегестрировано 617 работодателей, что может объяснятся тем, что крупные компании, которые работают в разных регионах или имеют распределенную сеть филиалов, но головной офис один, в качестве региона регистрации указывают более крупный географический объект. Либо международные компании ищут соискателя по всей стране. Либо таким образом работодатели пытаются скрыть поиск вакансии от конкурентов или своих сотрудников. Интересно посмотреть на количество работодателей, у которых не совпадает регион регистрации и регион размещения вакансий, а также узнать в каких еще регионах публикуют вакансии работодатели, находящие в первой пятерке рейтинга, который мы получили в запросе **query_5_2**.\n",
        "\n",
        "У 8419 (~35.8%) работодателей не указана сфера деятельности, что также объясняется желанием скрыть поиск сотрудников от конкурентов или уже работающих сотрудников, а также причиной этому может быть новая сфера деятельности, которой нет в справочнике ***industries***. Интересно посмотреть рейтинг компаний, не указавших ни одной сферы деятельности, по количеству вакансий, которые они предлагают и подходят ли эти вакансии для дата-сайентиста.\n",
        "\n",
        "Сфера деятельности \"Разработка программного обеспечения\" указана у 3553 работодателей в нашей базе данных, что составляет 15% от всех работодателей, интересно будет узнать, сколько вакансий у этих работодателей, а также подходят ли они для рекомендаций на позицию Data Scientist. В любом случае на данном этапе анализа можно сделать вывод, что шестая часть работодателей точно связана с информационными технологиями."
      ]
    },
    {
      "cell_type": "markdown",
      "id": "b1ef156a-efcb-49ce-bb23-90763e7f35b2",
      "metadata": {
        "id": "b1ef156a-efcb-49ce-bb23-90763e7f35b2",
        "tags": []
      },
      "source": [
        "# Юнит 6. Предметный анализ"
      ]
    },
    {
      "cell_type": "markdown",
      "id": "b9cd50a0-992d-4988-8463-2b2b1c4629b4",
      "metadata": {
        "id": "b9cd50a0-992d-4988-8463-2b2b1c4629b4"
      },
      "source": [
        "1. Сколько вакансий имеет отношение к данным?\n",
        "\n",
        "Считаем, что вакансия имеет отношение к данным, если в её названии содержатся слова 'data' или 'данн'.\n",
        "\n",
        "*Подсказка: Обратите внимание, что названия вакансий могут быть написаны в любом регистре.* \n"
      ]
    },
    {
      "cell_type": "code",
      "execution_count": 325,
      "id": "54ab0e50-c0f1-47cc-a54b-bc5c8bc363f9",
      "metadata": {
        "id": "54ab0e50-c0f1-47cc-a54b-bc5c8bc363f9"
      },
      "outputs": [],
      "source": [
        "# Код запроса, который возвращает количество вакансий, в которых содержатся слова 'data' или 'данн'\n",
        "query_6_1 = f'''SELECT\n",
        "                    COUNT(id) as cnt\n",
        "                FROM\n",
        "                    public.vacancies as vacancies\n",
        "                WHERE name ILIKE '%data%' OR name ILIKE '%данн%'\n",
        "'''"
      ]
    },
    {
      "cell_type": "code",
      "execution_count": 326,
      "id": "9F1meAqsuUjd",
      "metadata": {
        "id": "9F1meAqsuUjd"
      },
      "outputs": [
        {
          "name": "stdout",
          "output_type": "stream",
          "text": [
            "Количество вакансий, имеющих отношение к данным: 1771\n"
          ]
        }
      ],
      "source": [
        "# Выполняем запрос и выводим его результат\n",
        "datas_vacancies = pd.read_sql_query(text(query_6_1), connection).values[0][0]\n",
        "print('Количество вакансий, имеющих отношение к данным:', datas_vacancies)"
      ]
    },
    {
      "cell_type": "markdown",
      "id": "4dea20cb-a36b-474a-a0b9-e08e8e3857a5",
      "metadata": {
        "id": "4dea20cb-a36b-474a-a0b9-e08e8e3857a5"
      },
      "source": [
        "2. Сколько есть подходящих вакансий для начинающего дата-сайентиста? \n",
        "Будем считать вакансиями для дата-сайентистов такие, в названии которых есть хотя бы одно из следующих сочетаний:\n",
        "* 'data scientist'\n",
        "* 'data science'\n",
        "* 'исследователь данных'\n",
        "* 'ML' (здесь не нужно брать вакансии по HTML)\n",
        "* 'machine learning'\n",
        "* 'машинн%обучен%'\n",
        "\n",
        "** В следующих заданиях мы продолжим работать с вакансиями по этому условию.*\n",
        "\n",
        "Считаем вакансиями для специалистов уровня Junior следующие:\n",
        "* в названии есть слово 'junior' *или*\n",
        "* требуемый опыт — Нет опыта *или*\n",
        "* тип трудоустройства — Стажировка.\n",
        " "
      ]
    },
    {
      "cell_type": "code",
      "execution_count": 327,
      "id": "9c61b3c0-bb66-46c9-ae1e-81d3f5752b4a",
      "metadata": {
        "id": "9c61b3c0-bb66-46c9-ae1e-81d3f5752b4a"
      },
      "outputs": [],
      "source": [
        "# Создаем словарь сортировки названий вакансий\n",
        "ds_sort = ['%data scientist%', '%data science%', '%исследователь данных%', '%machine learning%', '%машинн%обучен%']\n",
        "\n",
        "# Код запроса, который подсчитывает количество вакансий для начинающих дата-сайентистов\n",
        "query_6_2 = f'''SELECT\n",
        "                    COUNT(id) as cnt\n",
        "                FROM\n",
        "                    public.vacancies as vacancies\n",
        "                WHERE (name ILIKE ANY (ARRAY{ds_sort}) OR name LIKE '%ML%')\n",
        "                    AND name NOT ILIKE '%HTML%'\n",
        "                    AND (name ILIKE '%junior%' OR experience LIKE '%Нет опыта%' OR employment LIKE '%Стажировка%')                    \n",
        "'''"
      ]
    },
    {
      "cell_type": "code",
      "execution_count": 328,
      "id": "ZNM-LLYuu1dj",
      "metadata": {
        "id": "ZNM-LLYuu1dj"
      },
      "outputs": [
        {
          "name": "stdout",
          "output_type": "stream",
          "text": [
            "Количество вакансий для начинающего дата-сайентиста: 51\n"
          ]
        }
      ],
      "source": [
        "# Выполняем запрос и выводим результат\n",
        "junior_DS_vacancies = pd.read_sql_query(text(query_6_2), connection).values[0][0]\n",
        "print('Количество вакансий для начинающего дата-сайентиста:', junior_DS_vacancies)"
      ]
    },
    {
      "cell_type": "markdown",
      "id": "eedceb80-c5ca-480e-b27a-278dfb8b4438",
      "metadata": {
        "id": "eedceb80-c5ca-480e-b27a-278dfb8b4438"
      },
      "source": [
        "3. Сколько есть вакансий для DS, в которых в качестве ключевого навыка указан SQL или postgres?\n",
        "\n",
        "** Критерии для отнесения вакансии к DS указаны в предыдущем задании.*"
      ]
    },
    {
      "cell_type": "code",
      "execution_count": 329,
      "id": "69621713-0cc5-4f1b-a1d7-bb144fa6148c",
      "metadata": {
        "id": "69621713-0cc5-4f1b-a1d7-bb144fa6148c"
      },
      "outputs": [],
      "source": [
        "# Код запроса, который возвращает количество вакансий с ключевыми навыками SQL и postgres\n",
        "query_6_3 = f'''SELECT\n",
        "                    COUNT(id) as cnt\n",
        "                FROM\n",
        "                    public.vacancies as vacancies\n",
        "                WHERE (name ILIKE ANY (ARRAY{ds_sort}) OR name LIKE '%ML%')\n",
        "                    AND name NOT ILIKE '%HTML%'\n",
        "                    AND (key_skills ILIKE '%SQL%' OR key_skills ILIKE '%postgres%')\n",
        "'''"
      ]
    },
    {
      "cell_type": "code",
      "execution_count": 330,
      "id": "alA8WEAAvGdf",
      "metadata": {
        "id": "alA8WEAAvGdf"
      },
      "outputs": [
        {
          "name": "stdout",
          "output_type": "stream",
          "text": [
            "Количество вакансий для дата-сайентиста с навыками SQL и posgres: 201\n"
          ]
        }
      ],
      "source": [
        "# Выполняем запрос и выводим результат его выполнения\n",
        "sql_DS_vacancies = pd.read_sql_query(text(query_6_3), connection).values[0][0]\n",
        "print('Количество вакансий для дата-сайентиста с навыками SQL и posgres:', sql_DS_vacancies)"
      ]
    },
    {
      "attachments": {},
      "cell_type": "markdown",
      "id": "1be1e9c6-37cf-4a5f-bfeb-04cab799dc80",
      "metadata": {
        "id": "1be1e9c6-37cf-4a5f-bfeb-04cab799dc80"
      },
      "source": [
        "4. Проверьте, насколько популярен Python в требованиях работодателей к DS. Для этого вычислите количество вакансий, в которых в качестве ключевого навыка указан Python.\n",
        "\n",
        "** Это можно сделать помощью запроса, аналогичного предыдущему.*"
      ]
    },
    {
      "cell_type": "code",
      "execution_count": 331,
      "id": "0036a355-9ccf-4564-8b01-73d8194297e7",
      "metadata": {
        "id": "0036a355-9ccf-4564-8b01-73d8194297e7"
      },
      "outputs": [],
      "source": [
        "# Код запроса, который возвращает количество вакансий с навыком Python для дата-сайентистов\n",
        "query_6_4 = f'''SELECT\n",
        "                    COUNT(id) as cnt\n",
        "                FROM\n",
        "                    public.vacancies as vacancies\n",
        "                WHERE (name ILIKE ANY (ARRAY{ds_sort}) OR name LIKE '%ML%')\n",
        "                    AND name NOT ILIKE '%HTML%'\n",
        "                    AND key_skills ILIKE '%python%'\n",
        "'''"
      ]
    },
    {
      "cell_type": "code",
      "execution_count": 332,
      "id": "1i-5WyucvQ6v",
      "metadata": {
        "id": "1i-5WyucvQ6v"
      },
      "outputs": [
        {
          "name": "stdout",
          "output_type": "stream",
          "text": [
            "Количество вакансий для дата-сайентиста с навыком python: 351\n"
          ]
        }
      ],
      "source": [
        "# Вызываем запрос и выводим результат его выполнения\n",
        "python_DS_vacancies = pd.read_sql_query(text(query_6_4), connection).values[0][0]\n",
        "print('Количество вакансий для дата-сайентиста с навыком python:', python_DS_vacancies)"
      ]
    },
    {
      "cell_type": "markdown",
      "id": "ec3c8db7-fa21-4a41-a994-1af63742a642",
      "metadata": {
        "id": "ec3c8db7-fa21-4a41-a994-1af63742a642"
      },
      "source": [
        "5. Сколько ключевых навыков в среднем указывают в вакансиях для DS?\n",
        "Ответ округлите до двух знаков после точки-разделителя."
      ]
    },
    {
      "cell_type": "code",
      "execution_count": 333,
      "id": "949132bc-d5b6-4611-8218-0b9a504d74f4",
      "metadata": {
        "id": "949132bc-d5b6-4611-8218-0b9a504d74f4"
      },
      "outputs": [],
      "source": [
        "# Код запроса, который возвращает количество навыков, которое в среднем указывают в вакансиях для дата-сайентистов\n",
        "query_6_5 = f'''SELECT\n",
        "                    AVG(LENGTH(key_skills)-LENGTH(REPLACE(key_skills, CHR(9), ''))+1)\n",
        "                FROM\n",
        "                    public.vacancies as vacancies\n",
        "                WHERE (name ILIKE ANY (ARRAY{ds_sort}) OR name LIKE '%ML%')\n",
        "                    AND name NOT ILIKE '%HTML%'\n",
        "                    AND key_skills IS NOT NULL\n",
        "'''"
      ]
    },
    {
      "cell_type": "code",
      "execution_count": 334,
      "id": "a3V24Tvmviqk",
      "metadata": {
        "id": "a3V24Tvmviqk"
      },
      "outputs": [
        {
          "name": "stdout",
          "output_type": "stream",
          "text": [
            "Среднее количество ключевых навыков в вакансиях для дата-сайентиста: 6.41\n"
          ]
        }
      ],
      "source": [
        "# Выполняем запрос и выводим результат\n",
        "mean_key_skills = pd.read_sql_query(text(query_6_5), connection).values[0][0]\n",
        "print('Среднее количество ключевых навыков в вакансиях для дата-сайентиста:', round(mean_key_skills, 2))"
      ]
    },
    {
      "cell_type": "markdown",
      "id": "1041c17a-ca8f-4543-a0ca-32778914fb00",
      "metadata": {
        "id": "1041c17a-ca8f-4543-a0ca-32778914fb00"
      },
      "source": [
        "6. Напишите запрос, позволяющий вычислить, какую зарплату для DS в **среднем** указывают для каждого типа требуемого опыта (уникальное значение из поля *experience*). \n",
        "\n",
        "При решении задачи примите во внимание следующее:\n",
        "1. Рассматриваем только вакансии, у которых заполнено хотя бы одно из двух полей с зарплатой.\n",
        "2. Если заполнены оба поля с зарплатой, то считаем зарплату по каждой вакансии как сумму двух полей, делённую на 2. Если заполнено только одно из полей, то его и считаем зарплатой по вакансии.\n",
        "3. Если в расчётах участвует null, в результате он тоже даст null (посмотрите, что возвращает запрос select 1 + null). Чтобы избежать этой ситуацию, мы воспользуемся функцией [coalesce](https://postgrespro.ru/docs/postgresql/9.5/functions-conditional#functions-coalesce-nvl-ifnull), которая заменит null на значение, которое мы передадим. Например, посмотрите, что возвращает запрос `select 1 + coalesce(null, 0)`\n",
        "\n",
        "Выясните, на какую зарплату в среднем может рассчитывать дата-сайентист с опытом работы от 3 до 6 лет. Результат округлите до целого числа. "
      ]
    },
    {
      "cell_type": "code",
      "execution_count": 335,
      "id": "6a743d39-5204-48d3-8271-b9f88e68d40e",
      "metadata": {
        "id": "6a743d39-5204-48d3-8271-b9f88e68d40e"
      },
      "outputs": [],
      "source": [
        "# Код запроса, который выводит среднюю заработную плату для вакансии дата-сайентиста с опытом работы от 3 до 6 лет\n",
        "query_6_6 = f'''SELECT\n",
        "                    DISTINCT experience,\n",
        "                    AVG(COALESCE((salary_from + salary_to)/2, salary_to, salary_from, 0)) as mean_salary\n",
        "                FROM\n",
        "                    public.vacancies as vacancies\n",
        "                WHERE (name ILIKE ANY (ARRAY{ds_sort}) OR name LIKE '%ML%')\n",
        "                    AND name NOT ILIKE '%HTML%'\n",
        "                    AND (salary_to IS NOT NULL OR salary_from IS NOT NULL)\n",
        "                GROUP BY experience\n",
        "'''"
      ]
    },
    {
      "cell_type": "code",
      "execution_count": 336,
      "id": "aRIJ0mZEwU1_",
      "metadata": {
        "id": "aRIJ0mZEwU1_"
      },
      "outputs": [
        {
          "name": "stdout",
          "output_type": "stream",
          "text": [
            "Дата-сайентист с опытом работы от 3 до 6 лет может расчитывать на зарплату: 243115\n"
          ]
        }
      ],
      "source": [
        "# Вызываем запрос и выводим результат выполнения\n",
        "mean_ds_salary = pd.read_sql_query(text(query_6_6), connection)\n",
        "print('Дата-сайентист с опытом работы от 3 до 6 лет может расчитывать на зарплату:',round(mean_ds_salary.values[2][1]))"
      ]
    },
    {
      "cell_type": "markdown",
      "id": "6a7892b4-4113-4746-adce-18aa2844f18e",
      "metadata": {
        "id": "6a7892b4-4113-4746-adce-18aa2844f18e"
      },
      "source": [
        "***"
      ]
    },
    {
      "attachments": {},
      "cell_type": "markdown",
      "id": "3e70b687",
      "metadata": {},
      "source": [
        "#### Вывод по предметному анализу\n",
        "\n",
        "Исходя из полученных данных можно сделать вывод, что всего 3.6% вакансий имеют отношение к данным. Поскольку для условия включения данных использовались только 'data'  и 'данн', то конечно это не все вакансии, так как в данном случае не учитываются, например, такие сокращения, как 'БД' или 'DB' и много других вариантов. Поэтому строго говоря считать, что всего 3.6% вакансий подходят для обучения модели будет неверно, скорее 3.6% точно подходят, но точное число вакансий неизвестно. Для определения более точного количества вакансий, которые относятся к данным, нужно проанализировать часто встречающиеся слова в вакансиях, где работодатель подходящую сферу деятельности или ключевые навыки подходят для работы с данными. Но для этого нужно отдельно более тщательно исследовать сферы деятельности и ключевые навыки, с приминением не только возможностей SQL, но и с использованием возможностей Python, что выходит за рамки данной работы. \n",
        "\n",
        "Дальнейшие исследования также упрощены, поскольку используются строго возможности SQL, но тем не менее благодаря простым запросам удалось отсеить 51 вакансию для начинающего дата-сайентиста. Что для соискателя довольно неплохой выбор, так как большее количество было бы сложнее изучить вручную, на предмет привлекательности той или иной вакансии. То есть простой запрос SQL сработал в качестве хорошего фильтра вакансий и сузил для соискателя базу из 49197 вакансий до приемлемых 51. \n",
        "\n",
        "Также с использованием запросов можно было легко отсеить вакансии по желаемым ключевым навыкам. В дальнейшем с помощью подобных запросов можно составить, например, словарь ключевых навыков, соответствующих профессии дата-сайентиста и при поиске вакансий пользоваться словарем, для более точного поиска и более эффективного обучения модели.\n",
        "\n",
        "Относительно средней заработной платы: как мы уже выяснили в сыром виде данных для обучения модели в нашей базе недостаточно, нужны специальные методы для заполнения недостающей информации, либо этот признак стоит исключить. Но поскольку размер заработной платы является практически главным фактором для соискателя при принятии решения, то исключение признака будет неправильно. Из исследования вакансий нам известно, что большинство соискателей желают заработную плату в диапазоне от 48 до 53 тысяч рублей, при этом среднюю заработную плату, которую предлагают работодатели для дата-сайентиста с опытом работы от 3 до 6 лет мы получили ~ 243 тысячи рублей, что значительно превосходит ожидания большинства соискателей. Конечно это не совсем правильное сравнение, так как мы не рассматриваем резюме, только по позициям Data Science, а также не рассматриваем опыт работы в резюме, но тем не менее можно сделать вывод, что заработная плата для позиций дата-сайентиста в среднем гораздо выше, чем в большинстве других вакансий."
      ]
    },
    {
      "attachments": {},
      "cell_type": "markdown",
      "id": "c0ED6fh7wiBT",
      "metadata": {
        "id": "c0ED6fh7wiBT"
      },
      "source": [
        "# Общий вывод по проекту\n",
        "\n",
        "Из рейтинга регионов по количеству вакансий мы можем рассчитать, что ~80% всех вакансий в нашей базе данных сосредоточены в первых 50 регионах нашего рейтинга, при этом ~49% всех вакансий относятся к городам-миллионникам. Что объясняется размещением в этих городах более крупных компаний, а также большим количеством работодателей, так как в таких городах больше клиентов у компаний, лучше логистическая,транспортная сфера и информационно-технологическая базы.\n",
        "\n",
        "Вместе с тем в нашей базе данных очень много пробелов, так отсутствует ~36% сведений о сферах деятельности работодателя, и ~51% информации об оплате труда, что без дополнительной обработки данных делает нашу базу в сыром виде не пригодной для обучения модели.\n",
        "\n",
        "Кроме того мы выяснили, что менее 1% вакансий содержат в названии слова, типичные для позиций Data Scientist и еще меньше вакансий для начинающих дата-сайентистов, таких вакансий мы получили только 51. Что слишком мало для обучения модели, а значит необходимо искать решения, для более точного отбора данных, возможно комбинировать несколько методов и подходов, либо наша база данных в принципе не подходит для обучения модели.\n",
        "\n",
        "Запросы SQL во многих случаях позволили нам быстрее и точнее получить искомую информацию, в сравнении с инструментами, которыми аппелирует Python без использования SQL. Вместе с тем только запросов SQL не достаточно для исследования и выбоки необходимых данных. Лучшим будет использование комбинации из запросов SQL и инструментов, которые предлагает Python.\n",
        "\n",
        "В дальнейшем стоит подробнее изучить наименования вакансий и ключевые навыки, так как в наших запросах, например, не учитывалось сокращение БД (база данных) и много других слов, которые используют при размещении вакансий, подходящих для дата-сайентиста. "
      ]
    },
    {
      "attachments": {},
      "cell_type": "markdown",
      "id": "a5c015d1",
      "metadata": {},
      "source": [
        "# Дополнительные исследования\n",
        "\n",
        "1. Количество вакансий, где регион регистрации работодателя не совпадает с регионом вакансии."
      ]
    },
    {
      "cell_type": "code",
      "execution_count": 337,
      "id": "5890983b",
      "metadata": {},
      "outputs": [],
      "source": [
        "query_extra_1 = f'''SELECT \n",
        "                    COUNT(vacancies.id)\n",
        "                FROM \n",
        "                    public.vacancies as vacancies\n",
        "                    JOIN public.employers as employers ON employers.id = vacancies.employer_id\n",
        "                WHERE vacancies.area_id <> employers.area                  \n",
        "'''"
      ]
    },
    {
      "cell_type": "code",
      "execution_count": 338,
      "id": "b8056565",
      "metadata": {},
      "outputs": [
        {
          "name": "stdout",
          "output_type": "stream",
          "text": [
            "Количество вакансий, где регион вакансии не совпадает с регионом регистрации работодателя: 23820\n"
          ]
        }
      ],
      "source": [
        "different_area = (pd.read_sql_query(text(query_extra_1), connection)).values[0][0]\n",
        "print('Количество вакансий, где регион вакансии не совпадает с регионом регистрации работодателя:', different_area)"
      ]
    },
    {
      "attachments": {},
      "cell_type": "markdown",
      "id": "f339b7bc",
      "metadata": {},
      "source": [
        "**Вывод**: 48.4% вакансий размещаются в регионах, отличных от региона работодателя. Это объясняется большим количеством компаний, которые имеют филиалы, распределенные по рахным географическим объектам, а также много иностранных компаний, которые ищут сотрудников для представительства в другой стране. Для России характерна централизация головных компаний в Москве, при этом сотрудники могут быть привязаны к конкретным географическим объектам, например добыча нефти осуществляется сотрудниками в местах, где она обнаружена, а не где зарегистрирована  компания. Также некоторые компании набирают сотрудников в регионах с низким показателем средней заработной платы для экономии, так часто поступают компании при организации call-центров."
      ]
    },
    {
      "attachments": {},
      "cell_type": "markdown",
      "id": "59480d77",
      "metadata": {},
      "source": [
        "2. Выведем ТОП-20 по количеству вакансий работодателей, у которых не указана сфера деятельности, чтобы понять возможные причины."
      ]
    },
    {
      "cell_type": "code",
      "execution_count": 339,
      "id": "f1df029e",
      "metadata": {},
      "outputs": [],
      "source": [
        "# Код запроса, ТОП-20 работодателей, не указавших сферу деятельности по убыванию количества вакансий\n",
        "query_extra_2 = f'''SELECT \n",
        "                    DISTINCT employers.name as employers_name,\n",
        "                    count (vacancies.id) as cnt_vacancies\n",
        "                    \n",
        "                FROM \n",
        "                    public.employers as employers\n",
        "                    LEFT JOIN public.employers_industries as emp_ind ON emp_ind.employer_id = employers.id\n",
        "                    JOIN public.vacancies as vacancies on vacancies.employer_id = employers.id\n",
        "                WHERE emp_ind.industry_id IS NULL\n",
        "                GROUP BY employers.id\n",
        "                ORDER BY count (vacancies.id) DESC\n",
        "'''"
      ]
    },
    {
      "cell_type": "code",
      "execution_count": 340,
      "id": "3ba384be",
      "metadata": {},
      "outputs": [
        {
          "data": {
            "text/html": [
              "<div>\n",
              "<style scoped>\n",
              "    .dataframe tbody tr th:only-of-type {\n",
              "        vertical-align: middle;\n",
              "    }\n",
              "\n",
              "    .dataframe tbody tr th {\n",
              "        vertical-align: top;\n",
              "    }\n",
              "\n",
              "    .dataframe thead th {\n",
              "        text-align: right;\n",
              "    }\n",
              "</style>\n",
              "<table border=\"1\" class=\"dataframe\">\n",
              "  <thead>\n",
              "    <tr style=\"text-align: right;\">\n",
              "      <th></th>\n",
              "      <th>employers_name</th>\n",
              "      <th>cnt_vacancies</th>\n",
              "    </tr>\n",
              "  </thead>\n",
              "  <tbody>\n",
              "    <tr>\n",
              "      <th>0</th>\n",
              "      <td>Спецремонт</td>\n",
              "      <td>151</td>\n",
              "    </tr>\n",
              "    <tr>\n",
              "      <th>1</th>\n",
              "      <td>Поляков Денис Иванович</td>\n",
              "      <td>127</td>\n",
              "    </tr>\n",
              "    <tr>\n",
              "      <th>2</th>\n",
              "      <td>Иннотех, Группа компаний</td>\n",
              "      <td>122</td>\n",
              "    </tr>\n",
              "    <tr>\n",
              "      <th>3</th>\n",
              "      <td>DNS Головной офис</td>\n",
              "      <td>72</td>\n",
              "    </tr>\n",
              "    <tr>\n",
              "      <th>4</th>\n",
              "      <td>ООО ЕФИН</td>\n",
              "      <td>71</td>\n",
              "    </tr>\n",
              "    <tr>\n",
              "      <th>5</th>\n",
              "      <td>АЛНАС</td>\n",
              "      <td>69</td>\n",
              "    </tr>\n",
              "    <tr>\n",
              "      <th>6</th>\n",
              "      <td>Диплей</td>\n",
              "      <td>68</td>\n",
              "    </tr>\n",
              "    <tr>\n",
              "      <th>7</th>\n",
              "      <td>РУСАЛ, Центр подбора персонала</td>\n",
              "      <td>54</td>\n",
              "    </tr>\n",
              "    <tr>\n",
              "      <th>8</th>\n",
              "      <td>Employcity</td>\n",
              "      <td>47</td>\n",
              "    </tr>\n",
              "    <tr>\n",
              "      <th>9</th>\n",
              "      <td>Ростелеком Информационные Технологии</td>\n",
              "      <td>46</td>\n",
              "    </tr>\n",
              "    <tr>\n",
              "      <th>10</th>\n",
              "      <td>Эр-1</td>\n",
              "      <td>44</td>\n",
              "    </tr>\n",
              "    <tr>\n",
              "      <th>11</th>\n",
              "      <td>АЛРОСА Информационные технологии</td>\n",
              "      <td>42</td>\n",
              "    </tr>\n",
              "    <tr>\n",
              "      <th>12</th>\n",
              "      <td>Кама</td>\n",
              "      <td>39</td>\n",
              "    </tr>\n",
              "    <tr>\n",
              "      <th>13</th>\n",
              "      <td>JCat.ru</td>\n",
              "      <td>34</td>\n",
              "    </tr>\n",
              "    <tr>\n",
              "      <th>14</th>\n",
              "      <td>Pride Games Studio</td>\n",
              "      <td>34</td>\n",
              "    </tr>\n",
              "    <tr>\n",
              "      <th>15</th>\n",
              "      <td>Reelmotion games</td>\n",
              "      <td>34</td>\n",
              "    </tr>\n",
              "    <tr>\n",
              "      <th>16</th>\n",
              "      <td>4people</td>\n",
              "      <td>32</td>\n",
              "    </tr>\n",
              "    <tr>\n",
              "      <th>17</th>\n",
              "      <td>A4.finance</td>\n",
              "      <td>30</td>\n",
              "    </tr>\n",
              "    <tr>\n",
              "      <th>18</th>\n",
              "      <td>ЦИФРА</td>\n",
              "      <td>30</td>\n",
              "    </tr>\n",
              "    <tr>\n",
              "      <th>19</th>\n",
              "      <td>Нэти</td>\n",
              "      <td>29</td>\n",
              "    </tr>\n",
              "  </tbody>\n",
              "</table>\n",
              "</div>"
            ],
            "text/plain": [
              "                          employers_name  cnt_vacancies\n",
              "0                             Спецремонт            151\n",
              "1                 Поляков Денис Иванович            127\n",
              "2               Иннотех, Группа компаний            122\n",
              "3                      DNS Головной офис             72\n",
              "4                              ООО ЕФИН              71\n",
              "5                                  АЛНАС             69\n",
              "6                                 Диплей             68\n",
              "7         РУСАЛ, Центр подбора персонала             54\n",
              "8                             Employcity             47\n",
              "9   Ростелеком Информационные Технологии             46\n",
              "10                                  Эр-1             44\n",
              "11      АЛРОСА Информационные технологии             42\n",
              "12                                  Кама             39\n",
              "13                               JCat.ru             34\n",
              "14                    Pride Games Studio             34\n",
              "15                      Reelmotion games             34\n",
              "16                               4people             32\n",
              "17                            A4.finance             30\n",
              "18                                 ЦИФРА             30\n",
              "19                                  Нэти             29"
            ]
          },
          "metadata": {},
          "output_type": "display_data"
        }
      ],
      "source": [
        "# Вызов запроса и вывод результата\n",
        "employers_without_industries = (pd.read_sql_query(text(query_extra_2), connection))\n",
        "display(employers_without_industries.head(20))"
      ]
    },
    {
      "attachments": {},
      "cell_type": "markdown",
      "id": "319a4c03",
      "metadata": {},
      "source": [
        "**Вывод**: Как можно заметить среди компаний, не указавших ни одной сферы деятельности довольно много компаний, которые связаны с IT сферой. Причем часть из них довольно крупные подразделения. Так как практически у трети работодателей не указана сфера деятельности, а их суммарное количество вакансий составляет 10084 (20.5%), то в дальнейшем следует попробовать заполнить недостающие данные исходя из названия компаний, а также исходя из названия и ключевых навыков в вакансиях, которые они размещают."
      ]
    },
    {
      "attachments": {},
      "cell_type": "markdown",
      "id": "7a1942a1",
      "metadata": {},
      "source": [
        "3. Средняя заработная плата в зависимости от типа трудоустройства."
      ]
    },
    {
      "cell_type": "code",
      "execution_count": 341,
      "id": "9e1e0adc",
      "metadata": {},
      "outputs": [],
      "source": [
        "# Код запроса, который возвращает среднюю заработную плату для каждого типа трудоустройства\n",
        "query_extra_3 = f'''SELECT\n",
        "                    employment as employment,\n",
        "                    ROUND(AVG(COALESCE((salary_from + salary_to)/2, salary_to, salary_from, 0))) as mean_salary\n",
        "                FROM\n",
        "                    public.vacancies as vacancies\n",
        "                WHERE salary_to IS NOT NULL OR salary_from IS NOT NULL\n",
        "                GROUP BY employment\n",
        "                ORDER BY mean_salary DESC\n",
        "'''"
      ]
    },
    {
      "cell_type": "code",
      "execution_count": 342,
      "id": "6b0a77dc",
      "metadata": {},
      "outputs": [
        {
          "data": {
            "text/html": [
              "<div>\n",
              "<style scoped>\n",
              "    .dataframe tbody tr th:only-of-type {\n",
              "        vertical-align: middle;\n",
              "    }\n",
              "\n",
              "    .dataframe tbody tr th {\n",
              "        vertical-align: top;\n",
              "    }\n",
              "\n",
              "    .dataframe thead th {\n",
              "        text-align: right;\n",
              "    }\n",
              "</style>\n",
              "<table border=\"1\" class=\"dataframe\">\n",
              "  <thead>\n",
              "    <tr style=\"text-align: right;\">\n",
              "      <th></th>\n",
              "      <th>employment</th>\n",
              "      <th>mean_salary</th>\n",
              "    </tr>\n",
              "  </thead>\n",
              "  <tbody>\n",
              "    <tr>\n",
              "      <th>0</th>\n",
              "      <td>Проектная работа</td>\n",
              "      <td>92086.0</td>\n",
              "    </tr>\n",
              "    <tr>\n",
              "      <th>1</th>\n",
              "      <td>Полная занятость</td>\n",
              "      <td>88240.0</td>\n",
              "    </tr>\n",
              "    <tr>\n",
              "      <th>2</th>\n",
              "      <td>Стажировка</td>\n",
              "      <td>37249.0</td>\n",
              "    </tr>\n",
              "    <tr>\n",
              "      <th>3</th>\n",
              "      <td>Частичная занятость</td>\n",
              "      <td>31566.0</td>\n",
              "    </tr>\n",
              "  </tbody>\n",
              "</table>\n",
              "</div>"
            ],
            "text/plain": [
              "            employment  mean_salary\n",
              "0     Проектная работа      92086.0\n",
              "1     Полная занятость      88240.0\n",
              "2           Стажировка      37249.0\n",
              "3  Частичная занятость      31566.0"
            ]
          },
          "metadata": {},
          "output_type": "display_data"
        }
      ],
      "source": [
        "# Вызов запроса и вывод результата\n",
        "mean_salary_by_employment = (pd.read_sql_query(text(query_extra_3), connection))\n",
        "display(mean_salary_by_employment)"
      ]
    },
    {
      "attachments": {},
      "cell_type": "markdown",
      "id": "25e93f44",
      "metadata": {},
      "source": [
        "**Вывод**: Из полученных данных можно сделать вывод, что наиболее оплачиваемой является проектная работа, что можно объяснить тем, что как правило на такие работы приглашают узких специалистов, которые изначально ценятся выше, а также тем, что проект по времени может занимать больше месяца, а оплата указана за проект, а не за месяц работ над проектом. \n",
        "\n",
        "На втором месте самый популяный и с точки зрения работодателей и с точки зрения соискателей тип трудоустройства, где средняя заработная плата предлагается 88 тысяч рублей, что выше ожидаемой соискателями заработной платы (в предыдущем проекте мы выяснили, что это ~60 тысяч рублей), что в свою очередь означает, что большинство вакансий подходят соответсвующим соискателям. \n",
        "\n",
        "Также можно заметить, что частичную занятость работодатели оценивают ниже, чем стажировку, что также логично, ведь стажер хоть и требует большего контроля, но при этом работает полный день и в дальнейшем может перейти на полную занятость, сотрудник с частичной занятостью в свою очередь, как правило не переходит на полный день, а данная вакансия рассматривается им в качестве подработки."
      ]
    },
    {
      "attachments": {},
      "cell_type": "markdown",
      "id": "43cf399a",
      "metadata": {},
      "source": [
        "4. Средняя заработная плата в зависимости от количества требуемых навыков."
      ]
    },
    {
      "cell_type": "code",
      "execution_count": 343,
      "id": "6f2328de",
      "metadata": {},
      "outputs": [],
      "source": [
        "# Код запроса, который возвращает среднюю заработную плату для всех вариантов количества ключевых навыков\n",
        "query_extra_4 = f'''SELECT\n",
        "                    (LENGTH(key_skills)-LENGTH(REPLACE(key_skills, CHR(9), ''))+1) as cnt_key_skills,\n",
        "                    ROUND(AVG(COALESCE((salary_from + salary_to)/2, salary_to, salary_from, 0))) as mean_salary\n",
        "                FROM\n",
        "                    public.vacancies as vacancies\n",
        "                WHERE key_skills IS NOT NULL AND (salary_to IS NOT NULL OR salary_from IS NOT NULL)\n",
        "                GROUP BY cnt_key_skills\n",
        "                UNION ALL\n",
        "                SELECT\n",
        "                    '0',\n",
        "                    ROUND(AVG(COALESCE((salary_from + salary_to)/2, salary_to, salary_from, 0))) as mean_salary\n",
        "                FROM\n",
        "                    public.vacancies as vacancies\n",
        "                WHERE key_skills IS NULL AND (salary_to IS NOT NULL OR salary_from IS NOT NULL)\n",
        "                ORDER BY mean_salary DESC\n",
        "'''"
      ]
    },
    {
      "cell_type": "code",
      "execution_count": 344,
      "id": "588eb7e2",
      "metadata": {},
      "outputs": [],
      "source": [
        "# Вызов запроса и получение данных\n",
        "mean_salary_by_key_skills = (pd.read_sql_query(text(query_extra_4), connection))"
      ]
    },
    {
      "cell_type": "code",
      "execution_count": 345,
      "id": "6df18c86",
      "metadata": {},
      "outputs": [
        {
          "data": {
            "image/png": "[encoded data removed]",
            "text/plain": [
              "<Figure size 1000x700 with 1 Axes>"
            ]
          },
          "metadata": {},
          "output_type": "display_data"
        }
      ],
      "source": [
        "# Выводим столбчатую диаграмму средней заработной платы в зависимости от количества навыков\n",
        "fig, axes = plt.subplots(figsize=(10, 7))\n",
        "barplot = sns.barplot(\n",
        "    data=mean_salary_by_key_skills,\n",
        "    x='cnt_key_skills',\n",
        "    y='mean_salary',\n",
        "    orient='v'\n",
        ")\n",
        "barplot.set_title('Средняя предлагаемая заработная плата в зависимости от количества требуемых ключевых навыков', fontsize=10)\n",
        "barplot.tick_params(axis='y', labelsize=7)\n",
        "barplot.set_xlabel('Количество ключевых навыков в вакансии, шт.', fontsize=10)\n",
        "barplot.set_ylabel('Средняя заработная плата, руб.', fontsize=10)\n",
        "barplot.grid(linestyle=':')"
      ]
    },
    {
      "attachments": {},
      "cell_type": "markdown",
      "id": "6b8cac9b",
      "metadata": {},
      "source": [
        "**Вывод**: исходя из полученной диаграммы можно сделать вывод, что количество навыков, указанное в вакансии не оказывает влияния на среднюю заработную плату, что логично, так как разные ключевые навыки имеют разный вес при оценки оплаты труда."
      ]
    },
    {
      "cell_type": "code",
      "execution_count": 346,
      "id": "b973a16c",
      "metadata": {},
      "outputs": [],
      "source": [
        "# Закрываем соединение с базой данных\n",
        "connection.close()"
      ]
    }
  ],
  "metadata": {
    "colab": {
      "collapsed_sections": [
        "8d62a9f3-f64e-4fe7-bdac-c4dffa16155e"
      ],
      "provenance": []
    },
    "kernelspec": {
      "display_name": "Python 3",
      "language": "python",
      "name": "python3"
    },
    "language_info": {
      "codemirror_mode": {
        "name": "ipython",
        "version": 3
      },
      "file_extension": ".py",
      "mimetype": "text/x-python",
      "name": "python",
      "nbconvert_exporter": "python",
      "pygments_lexer": "ipython3",
      "version": "3.9.13"
    },
    "vscode": {
      "interpreter": {
        "hash": "bec3d2e5e7188a19b2d41c420bc6b8df20852a4490e3269d6fe51551fefbfe04"
      }
    }
  },
  "nbformat": 4,
  "nbformat_minor": 5
}
